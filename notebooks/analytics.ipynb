{
 "cells": [
  {
   "cell_type": "markdown",
   "metadata": {},
   "source": [
    "# AgroUS"
   ]
  },
  {
   "cell_type": "markdown",
   "metadata": {},
   "source": [
    "Machine learning project for predicting Production, Supply and Distribution of World Agricultural Commodities"
   ]
  },
  {
   "cell_type": "markdown",
   "metadata": {},
   "source": [
    "Dmitriy Khodykin d.hodikin@yandex.ru"
   ]
  },
  {
   "cell_type": "code",
   "execution_count": 1,
   "metadata": {},
   "outputs": [],
   "source": [
    "# imports\n",
    "import pandas\n",
    "import matplotlib.pyplot as plt\n",
    "import seaborn"
   ]
  },
  {
   "cell_type": "markdown",
   "metadata": {},
   "source": [
    "## Import data"
   ]
  },
  {
   "cell_type": "markdown",
   "metadata": {},
   "source": [
    "Returns a set of records with Forecast number for a given Commodity Code (Ex, 0440000 for Corn) and a given Market Year (Ex, 2017) for all applicable countries. PSD Database has data for most commodities since year 1960."
   ]
  },
  {
   "cell_type": "code",
   "execution_count": 2,
   "metadata": {},
   "outputs": [],
   "source": [
    "data = pandas.read_parquet('../data/data.parquet')"
   ]
  },
  {
   "cell_type": "code",
   "execution_count": 3,
   "metadata": {
    "scrolled": true
   },
   "outputs": [
    {
     "data": {
      "text/html": [
       "<div>\n",
       "<style scoped>\n",
       "    .dataframe tbody tr th:only-of-type {\n",
       "        vertical-align: middle;\n",
       "    }\n",
       "\n",
       "    .dataframe tbody tr th {\n",
       "        vertical-align: top;\n",
       "    }\n",
       "\n",
       "    .dataframe thead th {\n",
       "        text-align: right;\n",
       "    }\n",
       "</style>\n",
       "<table border=\"1\" class=\"dataframe\">\n",
       "  <thead>\n",
       "    <tr style=\"text-align: right;\">\n",
       "      <th></th>\n",
       "      <th>commodityCode</th>\n",
       "      <th>countryCode</th>\n",
       "      <th>marketYear</th>\n",
       "      <th>calendarYear</th>\n",
       "      <th>month</th>\n",
       "      <th>attributeId</th>\n",
       "      <th>unitId</th>\n",
       "      <th>value</th>\n",
       "      <th>commodityName</th>\n",
       "      <th>attributeName</th>\n",
       "      <th>unitDescription</th>\n",
       "    </tr>\n",
       "  </thead>\n",
       "  <tbody>\n",
       "    <tr>\n",
       "      <th>0</th>\n",
       "      <td>0577400</td>\n",
       "      <td>GR</td>\n",
       "      <td>1990</td>\n",
       "      <td>1991</td>\n",
       "      <td>00</td>\n",
       "      <td>1</td>\n",
       "      <td>12</td>\n",
       "      <td>45400.0</td>\n",
       "      <td>Almonds, Shelled Basis</td>\n",
       "      <td>Area Planted</td>\n",
       "      <td>(HA)</td>\n",
       "    </tr>\n",
       "    <tr>\n",
       "      <th>1</th>\n",
       "      <td>0577400</td>\n",
       "      <td>GR</td>\n",
       "      <td>1990</td>\n",
       "      <td>1991</td>\n",
       "      <td>00</td>\n",
       "      <td>4</td>\n",
       "      <td>12</td>\n",
       "      <td>41500.0</td>\n",
       "      <td>Almonds, Shelled Basis</td>\n",
       "      <td>Area Harvested</td>\n",
       "      <td>(HA)</td>\n",
       "    </tr>\n",
       "    <tr>\n",
       "      <th>2</th>\n",
       "      <td>0577400</td>\n",
       "      <td>GR</td>\n",
       "      <td>1990</td>\n",
       "      <td>1991</td>\n",
       "      <td>00</td>\n",
       "      <td>17</td>\n",
       "      <td>10</td>\n",
       "      <td>15100.0</td>\n",
       "      <td>Almonds, Shelled Basis</td>\n",
       "      <td>Bearing Trees</td>\n",
       "      <td>(1000 TREES)</td>\n",
       "    </tr>\n",
       "    <tr>\n",
       "      <th>3</th>\n",
       "      <td>0577400</td>\n",
       "      <td>GR</td>\n",
       "      <td>1990</td>\n",
       "      <td>1991</td>\n",
       "      <td>00</td>\n",
       "      <td>19</td>\n",
       "      <td>10</td>\n",
       "      <td>800.0</td>\n",
       "      <td>Almonds, Shelled Basis</td>\n",
       "      <td>Non-Bearing Trees</td>\n",
       "      <td>(1000 TREES)</td>\n",
       "    </tr>\n",
       "    <tr>\n",
       "      <th>4</th>\n",
       "      <td>0577400</td>\n",
       "      <td>GR</td>\n",
       "      <td>1990</td>\n",
       "      <td>1991</td>\n",
       "      <td>00</td>\n",
       "      <td>16</td>\n",
       "      <td>10</td>\n",
       "      <td>15900.0</td>\n",
       "      <td>Almonds, Shelled Basis</td>\n",
       "      <td>Total Trees</td>\n",
       "      <td>(1000 TREES)</td>\n",
       "    </tr>\n",
       "  </tbody>\n",
       "</table>\n",
       "</div>"
      ],
      "text/plain": [
       "  commodityCode countryCode marketYear calendarYear month  attributeId  \\\n",
       "0       0577400          GR       1990         1991    00            1   \n",
       "1       0577400          GR       1990         1991    00            4   \n",
       "2       0577400          GR       1990         1991    00           17   \n",
       "3       0577400          GR       1990         1991    00           19   \n",
       "4       0577400          GR       1990         1991    00           16   \n",
       "\n",
       "   unitId    value           commodityName      attributeName  \\\n",
       "0      12  45400.0  Almonds, Shelled Basis       Area Planted   \n",
       "1      12  41500.0  Almonds, Shelled Basis     Area Harvested   \n",
       "2      10  15100.0  Almonds, Shelled Basis      Bearing Trees   \n",
       "3      10    800.0  Almonds, Shelled Basis  Non-Bearing Trees   \n",
       "4      10  15900.0  Almonds, Shelled Basis        Total Trees   \n",
       "\n",
       "        unitDescription  \n",
       "0  (HA)                  \n",
       "1  (HA)                  \n",
       "2  (1000 TREES)          \n",
       "3  (1000 TREES)          \n",
       "4  (1000 TREES)          "
      ]
     },
     "execution_count": 3,
     "metadata": {},
     "output_type": "execute_result"
    }
   ],
   "source": [
    "data.head()"
   ]
  },
  {
   "cell_type": "code",
   "execution_count": 4,
   "metadata": {},
   "outputs": [
    {
     "name": "stdout",
     "output_type": "stream",
     "text": [
      "<class 'pandas.core.frame.DataFrame'>\n",
      "Int64Index: 1410644 entries, 0 to 1410643\n",
      "Data columns (total 11 columns):\n",
      " #   Column           Non-Null Count    Dtype  \n",
      "---  ------           --------------    -----  \n",
      " 0   commodityCode    1410644 non-null  object \n",
      " 1   countryCode      1410644 non-null  object \n",
      " 2   marketYear       1410644 non-null  object \n",
      " 3   calendarYear     1410644 non-null  object \n",
      " 4   month            1410644 non-null  object \n",
      " 5   attributeId      1410644 non-null  int64  \n",
      " 6   unitId           1410644 non-null  int64  \n",
      " 7   value            1410644 non-null  float64\n",
      " 8   commodityName    1410644 non-null  object \n",
      " 9   attributeName    1410644 non-null  object \n",
      " 10  unitDescription  1410644 non-null  object \n",
      "dtypes: float64(1), int64(2), object(8)\n",
      "memory usage: 129.1+ MB\n"
     ]
    }
   ],
   "source": [
    "data.info()"
   ]
  },
  {
   "cell_type": "markdown",
   "metadata": {},
   "source": [
    "## Analytics data"
   ]
  },
  {
   "cell_type": "code",
   "execution_count": 5,
   "metadata": {},
   "outputs": [
    {
     "data": {
      "text/plain": [
       "Sugar, Centrifugal          75760\n",
       "Cotton                      55770\n",
       "Wheat                       55650\n",
       "Corn                        55215\n",
       "Coffee, Green               53375\n",
       "                            ...  \n",
       "Orange Juice                 4653\n",
       "Mixed Grain                  2655\n",
       "Oilseed, Soybean (Local)     1260\n",
       "Meal, Soybean (Local)        1260\n",
       "Oil, Soybean (Local)         1200\n",
       "Name: commodityName, Length: 64, dtype: int64"
      ]
     },
     "execution_count": 5,
     "metadata": {},
     "output_type": "execute_result"
    }
   ],
   "source": [
    "data['commodityName'].value_counts()"
   ]
  },
  {
   "cell_type": "code",
   "execution_count": 6,
   "metadata": {},
   "outputs": [
    {
     "data": {
      "image/png": "[encoded data removed]",
      "text/plain": [
       "<Figure size 432x288 with 1 Axes>"
      ]
     },
     "metadata": {
      "needs_background": "light"
     },
     "output_type": "display_data"
    }
   ],
   "source": [
    "# Subset TOP-10 Commodities\n",
    "top_10 = data['commodityName'].value_counts().head(10)\n",
    "\n",
    "seaborn.barplot(\n",
    "    x = top_10, \n",
    "    y = top_10.index\n",
    ");"
   ]
  },
  {
   "cell_type": "markdown",
   "metadata": {},
   "source": [
    "### Common Code"
   ]
  },
  {
   "cell_type": "code",
   "execution_count": 7,
   "metadata": {},
   "outputs": [],
   "source": [
    "def show_plot(data, x_label, y_label, attribute_name):\n",
    "    \"\"\"\n",
    "    Show seaborn barplot.\n",
    "    \"\"\"\n",
    "    seaborn.lineplot(\n",
    "        x = data[x_label], \n",
    "        y = data[y_label])\n",
    "    plt.suptitle(f'{attribute_name}', \n",
    "                 fontsize=16)\n",
    "    plt.xticks(rotation=90)\n",
    "    plt.show();"
   ]
  },
  {
   "cell_type": "markdown",
   "metadata": {},
   "source": [
    "### Sugar"
   ]
  },
  {
   "cell_type": "code",
   "execution_count": 8,
   "metadata": {
    "scrolled": true
   },
   "outputs": [
    {
     "data": {
      "text/html": [
       "<div>\n",
       "<style scoped>\n",
       "    .dataframe tbody tr th:only-of-type {\n",
       "        vertical-align: middle;\n",
       "    }\n",
       "\n",
       "    .dataframe tbody tr th {\n",
       "        vertical-align: top;\n",
       "    }\n",
       "\n",
       "    .dataframe thead th {\n",
       "        text-align: right;\n",
       "    }\n",
       "</style>\n",
       "<table border=\"1\" class=\"dataframe\">\n",
       "  <thead>\n",
       "    <tr style=\"text-align: right;\">\n",
       "      <th></th>\n",
       "      <th>commodityCode</th>\n",
       "      <th>countryCode</th>\n",
       "      <th>marketYear</th>\n",
       "      <th>calendarYear</th>\n",
       "      <th>month</th>\n",
       "      <th>attributeId</th>\n",
       "      <th>unitId</th>\n",
       "      <th>value</th>\n",
       "      <th>commodityName</th>\n",
       "      <th>attributeName</th>\n",
       "      <th>unitDescription</th>\n",
       "    </tr>\n",
       "  </thead>\n",
       "  <tbody>\n",
       "    <tr>\n",
       "      <th>1262030</th>\n",
       "      <td>0612000</td>\n",
       "      <td>AF</td>\n",
       "      <td>1990</td>\n",
       "      <td>1989</td>\n",
       "      <td>00</td>\n",
       "      <td>20</td>\n",
       "      <td>8</td>\n",
       "      <td>55.0</td>\n",
       "      <td>Sugar, Centrifugal</td>\n",
       "      <td>Beginning Stocks</td>\n",
       "      <td>(1000 MT)</td>\n",
       "    </tr>\n",
       "    <tr>\n",
       "      <th>1262031</th>\n",
       "      <td>0612000</td>\n",
       "      <td>AF</td>\n",
       "      <td>1990</td>\n",
       "      <td>1989</td>\n",
       "      <td>00</td>\n",
       "      <td>30</td>\n",
       "      <td>8</td>\n",
       "      <td>3.0</td>\n",
       "      <td>Sugar, Centrifugal</td>\n",
       "      <td>Beet Sugar Production</td>\n",
       "      <td>(1000 MT)</td>\n",
       "    </tr>\n",
       "    <tr>\n",
       "      <th>1262032</th>\n",
       "      <td>0612000</td>\n",
       "      <td>AF</td>\n",
       "      <td>1990</td>\n",
       "      <td>1989</td>\n",
       "      <td>00</td>\n",
       "      <td>43</td>\n",
       "      <td>8</td>\n",
       "      <td>7.0</td>\n",
       "      <td>Sugar, Centrifugal</td>\n",
       "      <td>Cane Sugar Production</td>\n",
       "      <td>(1000 MT)</td>\n",
       "    </tr>\n",
       "    <tr>\n",
       "      <th>1262033</th>\n",
       "      <td>0612000</td>\n",
       "      <td>AF</td>\n",
       "      <td>1990</td>\n",
       "      <td>1989</td>\n",
       "      <td>00</td>\n",
       "      <td>28</td>\n",
       "      <td>8</td>\n",
       "      <td>10.0</td>\n",
       "      <td>Sugar, Centrifugal</td>\n",
       "      <td>Production</td>\n",
       "      <td>(1000 MT)</td>\n",
       "    </tr>\n",
       "    <tr>\n",
       "      <th>1262034</th>\n",
       "      <td>0612000</td>\n",
       "      <td>AF</td>\n",
       "      <td>1990</td>\n",
       "      <td>1989</td>\n",
       "      <td>00</td>\n",
       "      <td>64</td>\n",
       "      <td>8</td>\n",
       "      <td>90.0</td>\n",
       "      <td>Sugar, Centrifugal</td>\n",
       "      <td>Raw Imports</td>\n",
       "      <td>(1000 MT)</td>\n",
       "    </tr>\n",
       "  </tbody>\n",
       "</table>\n",
       "</div>"
      ],
      "text/plain": [
       "        commodityCode countryCode marketYear calendarYear month  attributeId  \\\n",
       "1262030       0612000          AF       1990         1989    00           20   \n",
       "1262031       0612000          AF       1990         1989    00           30   \n",
       "1262032       0612000          AF       1990         1989    00           43   \n",
       "1262033       0612000          AF       1990         1989    00           28   \n",
       "1262034       0612000          AF       1990         1989    00           64   \n",
       "\n",
       "         unitId  value       commodityName          attributeName  \\\n",
       "1262030       8   55.0  Sugar, Centrifugal       Beginning Stocks   \n",
       "1262031       8    3.0  Sugar, Centrifugal  Beet Sugar Production   \n",
       "1262032       8    7.0  Sugar, Centrifugal  Cane Sugar Production   \n",
       "1262033       8   10.0  Sugar, Centrifugal             Production   \n",
       "1262034       8   90.0  Sugar, Centrifugal            Raw Imports   \n",
       "\n",
       "              unitDescription  \n",
       "1262030  (1000 MT)             \n",
       "1262031  (1000 MT)             \n",
       "1262032  (1000 MT)             \n",
       "1262033  (1000 MT)             \n",
       "1262034  (1000 MT)             "
      ]
     },
     "execution_count": 8,
     "metadata": {},
     "output_type": "execute_result"
    }
   ],
   "source": [
    "data[data['commodityName'] == 'Sugar, Centrifugal'].head()"
   ]
  },
  {
   "cell_type": "code",
   "execution_count": 9,
   "metadata": {},
   "outputs": [
    {
     "name": "stdout",
     "output_type": "stream",
     "text": [
      "['AC', 'AF', 'AG', 'AJ', 'AL', 'AM', 'AO', 'AR', 'AS', 'AU', 'BA', 'BB', 'BC', 'BD', 'BE', 'BF', 'BG', 'BH', 'BK', 'BL', 'BM', 'BO', 'BP', 'BR', 'BT', 'BU', 'BX', 'BY', 'CA', 'CB', 'CD', 'CE', 'CF', 'CG', 'CH', 'CI', 'CM', 'CN', 'CO', 'CS', 'CT', 'CU', 'CV', 'CY', 'CZ', 'DA', 'DJ', 'DM', 'DR', 'E2', 'E3', 'E4', 'EC', 'EG', 'EI', 'EK', 'EN', 'ER', 'ES', 'ET', 'EZ', 'FI', 'FJ', 'FO', 'FR', 'GA', 'GB', 'GC', 'GE', 'GG', 'GH', 'GI', 'GJ', 'GM', 'GN', 'GR', 'GT', 'GU', 'GY', 'GZ', 'HA', 'HK', 'HO', 'HR', 'HU', 'IC', 'ID', 'IN', 'IR', 'IS', 'IT', 'IV', 'IZ', 'JA', 'JM', 'JO', 'KE', 'KG', 'KN', 'KS', 'KU', 'KZ', 'LA', 'LE', 'LG', 'LH', 'LI', 'LO', 'LT', 'LY', 'MA', 'MC', 'MD', 'MG', 'MI', 'MJ', 'MK', 'ML', 'MO', 'MP', 'MR', 'MT', 'MU', 'MV', 'MX', 'MY', 'MZ', 'NA', 'NC', 'NG', 'NH', 'NI', 'NL', 'NO', 'NP', 'NS', 'NU', 'NZ', 'OD', 'PA', 'PE', 'PK', 'PL', 'PN', 'PO', 'PP', 'PU', 'QA', 'RB', 'RE', 'RH', 'RO', 'RP', 'RQ', 'RS', 'RW', 'S8', 'SA', 'SC', 'SE', 'SF', 'SG', 'SI', 'SL', 'SN', 'SO', 'SP', 'SR', 'SU', 'SW', 'SY', 'SZ', 'TC', 'TD', 'TH', 'TI', 'TN', 'TO', 'TP', 'TS', 'TU', 'TW', 'TX', 'TZ', 'UG', 'UK', 'UP', 'UR', 'US', 'UV', 'UY', 'UZ', 'VE', 'VM', 'WA', 'WS', 'WZ', 'Y2', 'YE', 'YM', 'YO', 'YS', 'YU', 'ZA', 'ZZ']\n"
     ]
    }
   ],
   "source": [
    "unique_country_codes = set(data['countryCode'])\n",
    "print(sorted(unique_country_codes))"
   ]
  },
  {
   "cell_type": "code",
   "execution_count": 10,
   "metadata": {},
   "outputs": [
    {
     "name": "stdout",
     "output_type": "stream",
     "text": [
      "['Annual % Change Per Cap. Cons.', 'Arabica Production', 'Area Harvested', 'Area Planted', 'Balance', 'Bean Exports', 'Bean Imports', 'Bearing Trees', 'Beef Cows Beg. Stocks', 'Beet Sugar Production', 'Beginning Stocks', 'CY Exp. to U.S.', 'CY Exports', 'CY Imp. from U.S.', 'CY Imports', 'Calf Slaughter', 'Cane Sugar Production', 'Catch For Reduction', 'Commercial Production', 'Consumption Change', 'Cow Change', 'Cow Slaughter', 'Cows In Milk', 'Cows Milk Production', 'Crush', 'Dairy Cows Beg. Stocks', 'Deliv. To Processors', 'Domestic Consumption', 'Ending Stocks', 'Export Change', 'Exportable Production', 'Exports', 'Exports Percent Production', 'Extr. Rate, 999.9999', 'FSI Consumption', 'Factory Use Consum.', 'Feed Dom. Consumption', 'Feed Use Dom. Consum.', 'Feed Waste Dom. Cons.', 'Fluid Use Dom. Consum.', 'Food Use Dom. Cons.', 'For Processing', 'Fresh Dom. Consumption', 'Human Consumption', 'Human Dom. Consumption', 'Import Change', 'Imports', 'Imports Percent Consumption', 'Industrial Dom. Cons.', 'Inventory (Reference)', 'Inventory Balance', 'Inventory Change', 'Loss Dom. Consumption', 'Loss and Residual', 'MY Exp. to EU', 'MY Imp. from EU', 'MY Imp. from U.S.', 'Milling Rate (.9999)', 'Non-Bearing Trees', 'Non-Comm. Production', 'Other Disappearance', 'Other Exports', 'Other Imports', 'Other Milk Production', 'Other Production', 'Other Slaughter', 'Other Use, Losses', 'Per Capita Consumption', 'Population', 'Production', 'Production Change', 'Production to Cows', 'Production to Sows', 'Raw Exports', 'Raw Imports', 'Refined Exp.(Raw Val)', 'Refined Imp.(Raw Val)', 'Roast & Ground Exports', 'Roast & Ground Imports', 'Robusta Production', 'Rough Production', 'Rst,Ground Dom. Consum', 'SME', 'Seed to Lint Ratio', 'Slaughter (Reference)', 'Slaughter to Inventory', 'Slaughter to Total Supply', 'Soluble Dom. Cons.', 'Soluble Exports', 'Soluble Imports', 'Sow Beginning Stocks', 'Sow Change', 'Sow Slaughter', 'Stocks-to-Use', 'TY Exports', 'TY Imp. from U.S.', 'TY Imports', 'Total Disappearance', 'Total Distribution', 'Total Slaughter', 'Total Supply', 'Total Trees', 'Total Use', 'Use Dom. Consumption', 'Weights', 'Withdrawal From Market', 'Yield']\n"
     ]
    }
   ],
   "source": [
    "unique_attribute_names = set(data['attributeName'])\n",
    "print(sorted(unique_attribute_names))"
   ]
  },
  {
   "cell_type": "code",
   "execution_count": 11,
   "metadata": {},
   "outputs": [],
   "source": [
    "# Production in the USA\n",
    "sugar_production_usa = data[(data['commodityName'] == 'Sugar, Centrifugal') & \\\n",
    "                            (data['attributeName'] == 'Production') & \\\n",
    "                            (data['countryCode'] == 'US')] \\\n",
    "                            [['countryCode', 'marketYear', 'calendarYear', \n",
    "                              'month', 'value', 'unitDescription']]"
   ]
  },
  {
   "cell_type": "code",
   "execution_count": 12,
   "metadata": {
    "scrolled": false
   },
   "outputs": [
    {
     "data": {
      "text/html": [
       "<div>\n",
       "<style scoped>\n",
       "    .dataframe tbody tr th:only-of-type {\n",
       "        vertical-align: middle;\n",
       "    }\n",
       "\n",
       "    .dataframe tbody tr th {\n",
       "        vertical-align: top;\n",
       "    }\n",
       "\n",
       "    .dataframe thead th {\n",
       "        text-align: right;\n",
       "    }\n",
       "</style>\n",
       "<table border=\"1\" class=\"dataframe\">\n",
       "  <thead>\n",
       "    <tr style=\"text-align: right;\">\n",
       "      <th></th>\n",
       "      <th>countryCode</th>\n",
       "      <th>marketYear</th>\n",
       "      <th>calendarYear</th>\n",
       "      <th>month</th>\n",
       "      <th>value</th>\n",
       "      <th>unitDescription</th>\n",
       "    </tr>\n",
       "  </thead>\n",
       "  <tbody>\n",
       "    <tr>\n",
       "      <th>1327969</th>\n",
       "      <td>US</td>\n",
       "      <td>2015</td>\n",
       "      <td>2018</td>\n",
       "      <td>11</td>\n",
       "      <td>7853.0</td>\n",
       "      <td>(1000 MT)</td>\n",
       "    </tr>\n",
       "    <tr>\n",
       "      <th>1330369</th>\n",
       "      <td>US</td>\n",
       "      <td>2016</td>\n",
       "      <td>2021</td>\n",
       "      <td>05</td>\n",
       "      <td>8155.0</td>\n",
       "      <td>(1000 MT)</td>\n",
       "    </tr>\n",
       "    <tr>\n",
       "      <th>1332785</th>\n",
       "      <td>US</td>\n",
       "      <td>2017</td>\n",
       "      <td>2021</td>\n",
       "      <td>05</td>\n",
       "      <td>8137.0</td>\n",
       "      <td>(1000 MT)</td>\n",
       "    </tr>\n",
       "    <tr>\n",
       "      <th>1335201</th>\n",
       "      <td>US</td>\n",
       "      <td>2018</td>\n",
       "      <td>2021</td>\n",
       "      <td>05</td>\n",
       "      <td>8430.0</td>\n",
       "      <td>(1000 MT)</td>\n",
       "    </tr>\n",
       "    <tr>\n",
       "      <th>1337617</th>\n",
       "      <td>US</td>\n",
       "      <td>2019</td>\n",
       "      <td>2021</td>\n",
       "      <td>05</td>\n",
       "      <td>8164.0</td>\n",
       "      <td>(1000 MT)</td>\n",
       "    </tr>\n",
       "  </tbody>\n",
       "</table>\n",
       "</div>"
      ],
      "text/plain": [
       "        countryCode marketYear calendarYear month   value  \\\n",
       "1327969          US       2015         2018    11  7853.0   \n",
       "1330369          US       2016         2021    05  8155.0   \n",
       "1332785          US       2017         2021    05  8137.0   \n",
       "1335201          US       2018         2021    05  8430.0   \n",
       "1337617          US       2019         2021    05  8164.0   \n",
       "\n",
       "              unitDescription  \n",
       "1327969  (1000 MT)             \n",
       "1330369  (1000 MT)             \n",
       "1332785  (1000 MT)             \n",
       "1335201  (1000 MT)             \n",
       "1337617  (1000 MT)             "
      ]
     },
     "execution_count": 12,
     "metadata": {},
     "output_type": "execute_result"
    }
   ],
   "source": [
    "sugar_production_usa.sort_values('marketYear').tail()"
   ]
  },
  {
   "cell_type": "code",
   "execution_count": null,
   "metadata": {},
   "outputs": [],
   "source": []
  },
  {
   "cell_type": "code",
   "execution_count": 13,
   "metadata": {},
   "outputs": [
    {
     "data": {
      "image/png": "[encoded data removed]",
      "text/plain": [
       "<Figure size 432x288 with 1 Axes>"
      ]
     },
     "metadata": {
      "needs_background": "light"
     },
     "output_type": "display_data"
    }
   ],
   "source": [
    "show_plot(\n",
    "    sugar_production_usa, \n",
    "    'marketYear', \n",
    "    'value', \n",
    "    'Sugar Production in The USA'\n",
    "    )"
   ]
  },
  {
   "cell_type": "code",
   "execution_count": 14,
   "metadata": {},
   "outputs": [],
   "source": [
    "# Ending Stocks in the USA\n",
    "sugar_ending_stocks_usa = data[(data['commodityName'] == 'Sugar, Centrifugal') & \\\n",
    "                               (data['attributeName'] == 'Ending Stocks') & \\\n",
    "                               (data['countryCode'] == 'US')] \\\n",
    "                                [['countryCode', 'marketYear', 'calendarYear', \n",
    "                                  'month', 'value', 'unitDescription']]"
   ]
  },
  {
   "cell_type": "code",
   "execution_count": 19,
   "metadata": {},
   "outputs": [
    {
     "data": {
      "text/html": [
       "<div>\n",
       "<style scoped>\n",
       "    .dataframe tbody tr th:only-of-type {\n",
       "        vertical-align: middle;\n",
       "    }\n",
       "\n",
       "    .dataframe tbody tr th {\n",
       "        vertical-align: top;\n",
       "    }\n",
       "\n",
       "    .dataframe thead th {\n",
       "        text-align: right;\n",
       "    }\n",
       "</style>\n",
       "<table border=\"1\" class=\"dataframe\">\n",
       "  <thead>\n",
       "    <tr style=\"text-align: right;\">\n",
       "      <th></th>\n",
       "      <th>countryCode</th>\n",
       "      <th>marketYear</th>\n",
       "      <th>calendarYear</th>\n",
       "      <th>month</th>\n",
       "      <th>value</th>\n",
       "      <th>unitDescription</th>\n",
       "    </tr>\n",
       "  </thead>\n",
       "  <tbody>\n",
       "    <tr>\n",
       "      <th>1327980</th>\n",
       "      <td>US</td>\n",
       "      <td>2015</td>\n",
       "      <td>2018</td>\n",
       "      <td>11</td>\n",
       "      <td>1647.0</td>\n",
       "      <td>(1000 MT)</td>\n",
       "    </tr>\n",
       "    <tr>\n",
       "      <th>1330380</th>\n",
       "      <td>US</td>\n",
       "      <td>2016</td>\n",
       "      <td>2021</td>\n",
       "      <td>05</td>\n",
       "      <td>1863.0</td>\n",
       "      <td>(1000 MT)</td>\n",
       "    </tr>\n",
       "    <tr>\n",
       "      <th>1332796</th>\n",
       "      <td>US</td>\n",
       "      <td>2017</td>\n",
       "      <td>2021</td>\n",
       "      <td>05</td>\n",
       "      <td>1702.0</td>\n",
       "      <td>(1000 MT)</td>\n",
       "    </tr>\n",
       "    <tr>\n",
       "      <th>1335212</th>\n",
       "      <td>US</td>\n",
       "      <td>2018</td>\n",
       "      <td>2021</td>\n",
       "      <td>05</td>\n",
       "      <td>1822.0</td>\n",
       "      <td>(1000 MT)</td>\n",
       "    </tr>\n",
       "    <tr>\n",
       "      <th>1337628</th>\n",
       "      <td>US</td>\n",
       "      <td>2019</td>\n",
       "      <td>2021</td>\n",
       "      <td>05</td>\n",
       "      <td>1618.0</td>\n",
       "      <td>(1000 MT)</td>\n",
       "    </tr>\n",
       "  </tbody>\n",
       "</table>\n",
       "</div>"
      ],
      "text/plain": [
       "        countryCode marketYear calendarYear month   value  \\\n",
       "1327980          US       2015         2018    11  1647.0   \n",
       "1330380          US       2016         2021    05  1863.0   \n",
       "1332796          US       2017         2021    05  1702.0   \n",
       "1335212          US       2018         2021    05  1822.0   \n",
       "1337628          US       2019         2021    05  1618.0   \n",
       "\n",
       "              unitDescription  \n",
       "1327980  (1000 MT)             \n",
       "1330380  (1000 MT)             \n",
       "1332796  (1000 MT)             \n",
       "1335212  (1000 MT)             \n",
       "1337628  (1000 MT)             "
      ]
     },
     "execution_count": 19,
     "metadata": {},
     "output_type": "execute_result"
    }
   ],
   "source": [
    "sugar_ending_stocks_usa.sort_values('marketYear').tail()"
   ]
  },
  {
   "cell_type": "code",
   "execution_count": 15,
   "metadata": {},
   "outputs": [
    {
     "data": {
      "image/png": "[encoded data removed]",
      "text/plain": [
       "<Figure size 432x288 with 1 Axes>"
      ]
     },
     "metadata": {
      "needs_background": "light"
     },
     "output_type": "display_data"
    }
   ],
   "source": [
    "show_plot(\n",
    "    sugar_ending_stocks_usa, \n",
    "    'marketYear', \n",
    "    'value', \n",
    "    'Sugar Ending Stocks in The USA'\n",
    "    )"
   ]
  },
  {
   "cell_type": "code",
   "execution_count": 25,
   "metadata": {},
   "outputs": [],
   "source": [
    "# Area Planted in the USA\n",
    "sugar_beginning_stocks_usa = data[(data['commodityName'] == 'Sugar, Centrifugal') & \\\n",
    "                                  (data['attributeName'] == 'Beginning Stocks') & \\\n",
    "                                  (data['countryCode'] == 'US')] \\\n",
    "                                  [['countryCode', 'marketYear', 'calendarYear', \n",
    "                                    'month', 'value', 'unitDescription']]"
   ]
  },
  {
   "cell_type": "code",
   "execution_count": 26,
   "metadata": {},
   "outputs": [
    {
     "data": {
      "text/html": [
       "<div>\n",
       "<style scoped>\n",
       "    .dataframe tbody tr th:only-of-type {\n",
       "        vertical-align: middle;\n",
       "    }\n",
       "\n",
       "    .dataframe tbody tr th {\n",
       "        vertical-align: top;\n",
       "    }\n",
       "\n",
       "    .dataframe thead th {\n",
       "        text-align: right;\n",
       "    }\n",
       "</style>\n",
       "<table border=\"1\" class=\"dataframe\">\n",
       "  <thead>\n",
       "    <tr style=\"text-align: right;\">\n",
       "      <th></th>\n",
       "      <th>countryCode</th>\n",
       "      <th>marketYear</th>\n",
       "      <th>calendarYear</th>\n",
       "      <th>month</th>\n",
       "      <th>value</th>\n",
       "      <th>unitDescription</th>\n",
       "    </tr>\n",
       "  </thead>\n",
       "  <tbody>\n",
       "    <tr>\n",
       "      <th>1327966</th>\n",
       "      <td>US</td>\n",
       "      <td>2015</td>\n",
       "      <td>2018</td>\n",
       "      <td>11</td>\n",
       "      <td>1642.0</td>\n",
       "      <td>(1000 MT)</td>\n",
       "    </tr>\n",
       "    <tr>\n",
       "      <th>1330366</th>\n",
       "      <td>US</td>\n",
       "      <td>2016</td>\n",
       "      <td>2021</td>\n",
       "      <td>05</td>\n",
       "      <td>1647.0</td>\n",
       "      <td>(1000 MT)</td>\n",
       "    </tr>\n",
       "    <tr>\n",
       "      <th>1332782</th>\n",
       "      <td>US</td>\n",
       "      <td>2017</td>\n",
       "      <td>2021</td>\n",
       "      <td>05</td>\n",
       "      <td>1863.0</td>\n",
       "      <td>(1000 MT)</td>\n",
       "    </tr>\n",
       "    <tr>\n",
       "      <th>1335198</th>\n",
       "      <td>US</td>\n",
       "      <td>2018</td>\n",
       "      <td>2021</td>\n",
       "      <td>05</td>\n",
       "      <td>1702.0</td>\n",
       "      <td>(1000 MT)</td>\n",
       "    </tr>\n",
       "    <tr>\n",
       "      <th>1337614</th>\n",
       "      <td>US</td>\n",
       "      <td>2019</td>\n",
       "      <td>2021</td>\n",
       "      <td>05</td>\n",
       "      <td>1822.0</td>\n",
       "      <td>(1000 MT)</td>\n",
       "    </tr>\n",
       "  </tbody>\n",
       "</table>\n",
       "</div>"
      ],
      "text/plain": [
       "        countryCode marketYear calendarYear month   value  \\\n",
       "1327966          US       2015         2018    11  1642.0   \n",
       "1330366          US       2016         2021    05  1647.0   \n",
       "1332782          US       2017         2021    05  1863.0   \n",
       "1335198          US       2018         2021    05  1702.0   \n",
       "1337614          US       2019         2021    05  1822.0   \n",
       "\n",
       "              unitDescription  \n",
       "1327966  (1000 MT)             \n",
       "1330366  (1000 MT)             \n",
       "1332782  (1000 MT)             \n",
       "1335198  (1000 MT)             \n",
       "1337614  (1000 MT)             "
      ]
     },
     "execution_count": 26,
     "metadata": {},
     "output_type": "execute_result"
    }
   ],
   "source": [
    "sugar_beginning_stocks_usa.sort_values('marketYear').tail()"
   ]
  },
  {
   "cell_type": "code",
   "execution_count": 28,
   "metadata": {},
   "outputs": [
    {
     "data": {
      "image/png": "[encoded data removed]",
      "text/plain": [
       "<Figure size 432x288 with 1 Axes>"
      ]
     },
     "metadata": {
      "needs_background": "light"
     },
     "output_type": "display_data"
    }
   ],
   "source": [
    "show_plot(\n",
    "    sugar_beginning_stocks_usa, \n",
    "    'marketYear', \n",
    "    'value', \n",
    "    'Sugar Beginning Stocks in The USA'\n",
    "    )"
   ]
  },
  {
   "cell_type": "code",
   "execution_count": 89,
   "metadata": {},
   "outputs": [],
   "source": [
    "# Sugar in The US, all attributes\n",
    "sugar_dataframe_usa = data[(data['countryCode'] == 'US') & \\\n",
    "                           (data['commodityName'] == 'Sugar, Centrifugal')] \\\n",
    "                            [['marketYear', 'attributeName', 'value']]"
   ]
  },
  {
   "cell_type": "code",
   "execution_count": 90,
   "metadata": {},
   "outputs": [
    {
     "data": {
      "text/html": [
       "<div>\n",
       "<style scoped>\n",
       "    .dataframe tbody tr th:only-of-type {\n",
       "        vertical-align: middle;\n",
       "    }\n",
       "\n",
       "    .dataframe tbody tr th {\n",
       "        vertical-align: top;\n",
       "    }\n",
       "\n",
       "    .dataframe thead th {\n",
       "        text-align: right;\n",
       "    }\n",
       "</style>\n",
       "<table border=\"1\" class=\"dataframe\">\n",
       "  <thead>\n",
       "    <tr style=\"text-align: right;\">\n",
       "      <th></th>\n",
       "      <th>marketYear</th>\n",
       "      <th>attributeName</th>\n",
       "      <th>value</th>\n",
       "    </tr>\n",
       "  </thead>\n",
       "  <tbody>\n",
       "    <tr>\n",
       "      <th>1337625</th>\n",
       "      <td>2019</td>\n",
       "      <td>Human Dom. Consumption</td>\n",
       "      <td>10982.0</td>\n",
       "    </tr>\n",
       "    <tr>\n",
       "      <th>1337626</th>\n",
       "      <td>2019</td>\n",
       "      <td>Other Disappearance</td>\n",
       "      <td>139.0</td>\n",
       "    </tr>\n",
       "    <tr>\n",
       "      <th>1337627</th>\n",
       "      <td>2019</td>\n",
       "      <td>Total Disappearance</td>\n",
       "      <td>11121.0</td>\n",
       "    </tr>\n",
       "    <tr>\n",
       "      <th>1337628</th>\n",
       "      <td>2019</td>\n",
       "      <td>Ending Stocks</td>\n",
       "      <td>1618.0</td>\n",
       "    </tr>\n",
       "    <tr>\n",
       "      <th>1337629</th>\n",
       "      <td>2019</td>\n",
       "      <td>Total Distribution</td>\n",
       "      <td>12771.0</td>\n",
       "    </tr>\n",
       "  </tbody>\n",
       "</table>\n",
       "</div>"
      ],
      "text/plain": [
       "        marketYear           attributeName    value\n",
       "1337625       2019  Human Dom. Consumption  10982.0\n",
       "1337626       2019     Other Disappearance    139.0\n",
       "1337627       2019     Total Disappearance  11121.0\n",
       "1337628       2019           Ending Stocks   1618.0\n",
       "1337629       2019      Total Distribution  12771.0"
      ]
     },
     "execution_count": 90,
     "metadata": {},
     "output_type": "execute_result"
    }
   ],
   "source": [
    "sugar_dataframe_usa.tail()"
   ]
  },
  {
   "cell_type": "code",
   "execution_count": 91,
   "metadata": {},
   "outputs": [],
   "source": [
    "# Market year as index\n",
    "sugar_dataframe_usa.index = sugar_dataframe_usa['marketYear']\n",
    "sugar_dataframe_usa = sugar_dataframe_usa.drop(['marketYear'], axis=1)"
   ]
  },
  {
   "cell_type": "code",
   "execution_count": 92,
   "metadata": {},
   "outputs": [
    {
     "data": {
      "text/html": [
       "<div>\n",
       "<style scoped>\n",
       "    .dataframe tbody tr th:only-of-type {\n",
       "        vertical-align: middle;\n",
       "    }\n",
       "\n",
       "    .dataframe tbody tr th {\n",
       "        vertical-align: top;\n",
       "    }\n",
       "\n",
       "    .dataframe thead th {\n",
       "        text-align: right;\n",
       "    }\n",
       "</style>\n",
       "<table border=\"1\" class=\"dataframe\">\n",
       "  <thead>\n",
       "    <tr style=\"text-align: right;\">\n",
       "      <th></th>\n",
       "      <th>attributeName</th>\n",
       "      <th>value</th>\n",
       "    </tr>\n",
       "    <tr>\n",
       "      <th>marketYear</th>\n",
       "      <th></th>\n",
       "      <th></th>\n",
       "    </tr>\n",
       "  </thead>\n",
       "  <tbody>\n",
       "    <tr>\n",
       "      <th>2019</th>\n",
       "      <td>Human Dom. Consumption</td>\n",
       "      <td>10982.0</td>\n",
       "    </tr>\n",
       "    <tr>\n",
       "      <th>2019</th>\n",
       "      <td>Other Disappearance</td>\n",
       "      <td>139.0</td>\n",
       "    </tr>\n",
       "    <tr>\n",
       "      <th>2019</th>\n",
       "      <td>Total Disappearance</td>\n",
       "      <td>11121.0</td>\n",
       "    </tr>\n",
       "    <tr>\n",
       "      <th>2019</th>\n",
       "      <td>Ending Stocks</td>\n",
       "      <td>1618.0</td>\n",
       "    </tr>\n",
       "    <tr>\n",
       "      <th>2019</th>\n",
       "      <td>Total Distribution</td>\n",
       "      <td>12771.0</td>\n",
       "    </tr>\n",
       "  </tbody>\n",
       "</table>\n",
       "</div>"
      ],
      "text/plain": [
       "                     attributeName    value\n",
       "marketYear                                 \n",
       "2019        Human Dom. Consumption  10982.0\n",
       "2019           Other Disappearance    139.0\n",
       "2019           Total Disappearance  11121.0\n",
       "2019                 Ending Stocks   1618.0\n",
       "2019            Total Distribution  12771.0"
      ]
     },
     "execution_count": 92,
     "metadata": {},
     "output_type": "execute_result"
    }
   ],
   "source": [
    "sugar_dataframe_usa.tail()"
   ]
  },
  {
   "cell_type": "code",
   "execution_count": 93,
   "metadata": {},
   "outputs": [],
   "source": [
    "# Change AttributeName from rows to columns\n",
    "sugar_dataframe_usa = sugar_dataframe_usa.pivot(columns='attributeName')"
   ]
  },
  {
   "cell_type": "code",
   "execution_count": 94,
   "metadata": {},
   "outputs": [
    {
     "data": {
      "text/html": [
       "<div>\n",
       "<style scoped>\n",
       "    .dataframe tbody tr th:only-of-type {\n",
       "        vertical-align: middle;\n",
       "    }\n",
       "\n",
       "    .dataframe tbody tr th {\n",
       "        vertical-align: top;\n",
       "    }\n",
       "\n",
       "    .dataframe thead tr th {\n",
       "        text-align: left;\n",
       "    }\n",
       "\n",
       "    .dataframe thead tr:last-of-type th {\n",
       "        text-align: right;\n",
       "    }\n",
       "</style>\n",
       "<table border=\"1\" class=\"dataframe\">\n",
       "  <thead>\n",
       "    <tr>\n",
       "      <th></th>\n",
       "      <th colspan=\"16\" halign=\"left\">value</th>\n",
       "    </tr>\n",
       "    <tr>\n",
       "      <th>attributeName</th>\n",
       "      <th>Beet Sugar Production</th>\n",
       "      <th>Beginning Stocks</th>\n",
       "      <th>Cane Sugar Production</th>\n",
       "      <th>Ending Stocks</th>\n",
       "      <th>Exports</th>\n",
       "      <th>Human Dom. Consumption</th>\n",
       "      <th>Imports</th>\n",
       "      <th>Other Disappearance</th>\n",
       "      <th>Production</th>\n",
       "      <th>Raw Exports</th>\n",
       "      <th>Raw Imports</th>\n",
       "      <th>Refined Exp.(Raw Val)</th>\n",
       "      <th>Refined Imp.(Raw Val)</th>\n",
       "      <th>Total Disappearance</th>\n",
       "      <th>Total Distribution</th>\n",
       "      <th>Total Supply</th>\n",
       "    </tr>\n",
       "    <tr>\n",
       "      <th>marketYear</th>\n",
       "      <th></th>\n",
       "      <th></th>\n",
       "      <th></th>\n",
       "      <th></th>\n",
       "      <th></th>\n",
       "      <th></th>\n",
       "      <th></th>\n",
       "      <th></th>\n",
       "      <th></th>\n",
       "      <th></th>\n",
       "      <th></th>\n",
       "      <th></th>\n",
       "      <th></th>\n",
       "      <th></th>\n",
       "      <th></th>\n",
       "      <th></th>\n",
       "    </tr>\n",
       "  </thead>\n",
       "  <tbody>\n",
       "    <tr>\n",
       "      <th>2015</th>\n",
       "      <td>4439.0</td>\n",
       "      <td>1642.0</td>\n",
       "      <td>3414.0</td>\n",
       "      <td>1647.0</td>\n",
       "      <td>168.0</td>\n",
       "      <td>10785.0</td>\n",
       "      <td>3223.0</td>\n",
       "      <td>118.0</td>\n",
       "      <td>7853.0</td>\n",
       "      <td>0.0</td>\n",
       "      <td>2368.0</td>\n",
       "      <td>168.0</td>\n",
       "      <td>855.0</td>\n",
       "      <td>10903.0</td>\n",
       "      <td>12718.0</td>\n",
       "      <td>12718.0</td>\n",
       "    </tr>\n",
       "    <tr>\n",
       "      <th>2016</th>\n",
       "      <td>4644.0</td>\n",
       "      <td>1647.0</td>\n",
       "      <td>3511.0</td>\n",
       "      <td>1863.0</td>\n",
       "      <td>67.0</td>\n",
       "      <td>10779.0</td>\n",
       "      <td>3031.0</td>\n",
       "      <td>124.0</td>\n",
       "      <td>8155.0</td>\n",
       "      <td>0.0</td>\n",
       "      <td>2203.0</td>\n",
       "      <td>67.0</td>\n",
       "      <td>828.0</td>\n",
       "      <td>10903.0</td>\n",
       "      <td>12833.0</td>\n",
       "      <td>12833.0</td>\n",
       "    </tr>\n",
       "    <tr>\n",
       "      <th>2017</th>\n",
       "      <td>4630.0</td>\n",
       "      <td>1863.0</td>\n",
       "      <td>3507.0</td>\n",
       "      <td>1702.0</td>\n",
       "      <td>86.0</td>\n",
       "      <td>10979.0</td>\n",
       "      <td>2943.0</td>\n",
       "      <td>176.0</td>\n",
       "      <td>8137.0</td>\n",
       "      <td>0.0</td>\n",
       "      <td>2209.0</td>\n",
       "      <td>86.0</td>\n",
       "      <td>734.0</td>\n",
       "      <td>11155.0</td>\n",
       "      <td>12943.0</td>\n",
       "      <td>12943.0</td>\n",
       "    </tr>\n",
       "    <tr>\n",
       "      <th>2018</th>\n",
       "      <td>4789.0</td>\n",
       "      <td>1702.0</td>\n",
       "      <td>3641.0</td>\n",
       "      <td>1822.0</td>\n",
       "      <td>154.0</td>\n",
       "      <td>10930.0</td>\n",
       "      <td>2972.0</td>\n",
       "      <td>198.0</td>\n",
       "      <td>8430.0</td>\n",
       "      <td>0.0</td>\n",
       "      <td>2266.0</td>\n",
       "      <td>154.0</td>\n",
       "      <td>706.0</td>\n",
       "      <td>11128.0</td>\n",
       "      <td>13104.0</td>\n",
       "      <td>13104.0</td>\n",
       "    </tr>\n",
       "    <tr>\n",
       "      <th>2019</th>\n",
       "      <td>4481.0</td>\n",
       "      <td>1822.0</td>\n",
       "      <td>3683.0</td>\n",
       "      <td>1618.0</td>\n",
       "      <td>32.0</td>\n",
       "      <td>10982.0</td>\n",
       "      <td>2785.0</td>\n",
       "      <td>139.0</td>\n",
       "      <td>8164.0</td>\n",
       "      <td>0.0</td>\n",
       "      <td>2145.0</td>\n",
       "      <td>32.0</td>\n",
       "      <td>640.0</td>\n",
       "      <td>11121.0</td>\n",
       "      <td>12771.0</td>\n",
       "      <td>12771.0</td>\n",
       "    </tr>\n",
       "  </tbody>\n",
       "</table>\n",
       "</div>"
      ],
      "text/plain": [
       "                              value                                         \\\n",
       "attributeName Beet Sugar Production Beginning Stocks Cane Sugar Production   \n",
       "marketYear                                                                   \n",
       "2015                         4439.0           1642.0                3414.0   \n",
       "2016                         4644.0           1647.0                3511.0   \n",
       "2017                         4630.0           1863.0                3507.0   \n",
       "2018                         4789.0           1702.0                3641.0   \n",
       "2019                         4481.0           1822.0                3683.0   \n",
       "\n",
       "                                                                    \\\n",
       "attributeName Ending Stocks Exports Human Dom. Consumption Imports   \n",
       "marketYear                                                           \n",
       "2015                 1647.0   168.0                10785.0  3223.0   \n",
       "2016                 1863.0    67.0                10779.0  3031.0   \n",
       "2017                 1702.0    86.0                10979.0  2943.0   \n",
       "2018                 1822.0   154.0                10930.0  2972.0   \n",
       "2019                 1618.0    32.0                10982.0  2785.0   \n",
       "\n",
       "                                                                      \\\n",
       "attributeName Other Disappearance Production Raw Exports Raw Imports   \n",
       "marketYear                                                             \n",
       "2015                        118.0     7853.0         0.0      2368.0   \n",
       "2016                        124.0     8155.0         0.0      2203.0   \n",
       "2017                        176.0     8137.0         0.0      2209.0   \n",
       "2018                        198.0     8430.0         0.0      2266.0   \n",
       "2019                        139.0     8164.0         0.0      2145.0   \n",
       "\n",
       "                                                                               \\\n",
       "attributeName Refined Exp.(Raw Val) Refined Imp.(Raw Val) Total Disappearance   \n",
       "marketYear                                                                      \n",
       "2015                          168.0                 855.0             10903.0   \n",
       "2016                           67.0                 828.0             10903.0   \n",
       "2017                           86.0                 734.0             11155.0   \n",
       "2018                          154.0                 706.0             11128.0   \n",
       "2019                           32.0                 640.0             11121.0   \n",
       "\n",
       "                                               \n",
       "attributeName Total Distribution Total Supply  \n",
       "marketYear                                     \n",
       "2015                     12718.0      12718.0  \n",
       "2016                     12833.0      12833.0  \n",
       "2017                     12943.0      12943.0  \n",
       "2018                     13104.0      13104.0  \n",
       "2019                     12771.0      12771.0  "
      ]
     },
     "execution_count": 94,
     "metadata": {},
     "output_type": "execute_result"
    }
   ],
   "source": [
    "sugar_dataframe_usa.tail()"
   ]
  },
  {
   "cell_type": "code",
   "execution_count": 95,
   "metadata": {},
   "outputs": [
    {
     "data": {
      "text/plain": [
       "(30, 16)"
      ]
     },
     "execution_count": 95,
     "metadata": {},
     "output_type": "execute_result"
    }
   ],
   "source": [
    "sugar_dataframe_usa.shape"
   ]
  },
  {
   "cell_type": "code",
   "execution_count": 96,
   "metadata": {},
   "outputs": [],
   "source": [
    "# Drop extra index level in columns\n",
    "sugar_dataframe_usa = sugar_dataframe_usa.droplevel(level=0, axis=1)"
   ]
  },
  {
   "cell_type": "code",
   "execution_count": 97,
   "metadata": {},
   "outputs": [
    {
     "data": {
      "text/plain": [
       "Index(['Beet Sugar Production', 'Beginning Stocks', 'Cane Sugar Production',\n",
       "       'Ending Stocks', 'Exports', 'Human Dom. Consumption', 'Imports',\n",
       "       'Other Disappearance', 'Production', 'Raw Exports', 'Raw Imports',\n",
       "       'Refined Exp.(Raw Val)', 'Refined Imp.(Raw Val)', 'Total Disappearance',\n",
       "       'Total Distribution', 'Total Supply'],\n",
       "      dtype='object', name='attributeName')"
      ]
     },
     "execution_count": 97,
     "metadata": {},
     "output_type": "execute_result"
    }
   ],
   "source": [
    "sugar_dataframe_usa.columns"
   ]
  },
  {
   "cell_type": "code",
   "execution_count": 98,
   "metadata": {},
   "outputs": [
    {
     "name": "stdout",
     "output_type": "stream",
     "text": [
      "<class 'pandas.core.frame.DataFrame'>\n",
      "Index: 30 entries, 1990 to 2019\n",
      "Data columns (total 16 columns):\n",
      " #   Column                  Non-Null Count  Dtype  \n",
      "---  ------                  --------------  -----  \n",
      " 0   Beet Sugar Production   30 non-null     float64\n",
      " 1   Beginning Stocks        30 non-null     float64\n",
      " 2   Cane Sugar Production   30 non-null     float64\n",
      " 3   Ending Stocks           30 non-null     float64\n",
      " 4   Exports                 30 non-null     float64\n",
      " 5   Human Dom. Consumption  30 non-null     float64\n",
      " 6   Imports                 30 non-null     float64\n",
      " 7   Other Disappearance     30 non-null     float64\n",
      " 8   Production              30 non-null     float64\n",
      " 9   Raw Exports             30 non-null     float64\n",
      " 10  Raw Imports             30 non-null     float64\n",
      " 11  Refined Exp.(Raw Val)   30 non-null     float64\n",
      " 12  Refined Imp.(Raw Val)   30 non-null     float64\n",
      " 13  Total Disappearance     30 non-null     float64\n",
      " 14  Total Distribution      30 non-null     float64\n",
      " 15  Total Supply            30 non-null     float64\n",
      "dtypes: float64(16)\n",
      "memory usage: 4.0+ KB\n"
     ]
    }
   ],
   "source": [
    "sugar_dataframe_usa.info()"
   ]
  },
  {
   "cell_type": "code",
   "execution_count": 99,
   "metadata": {
    "scrolled": true
   },
   "outputs": [
    {
     "data": {
      "text/html": [
       "<div>\n",
       "<style scoped>\n",
       "    .dataframe tbody tr th:only-of-type {\n",
       "        vertical-align: middle;\n",
       "    }\n",
       "\n",
       "    .dataframe tbody tr th {\n",
       "        vertical-align: top;\n",
       "    }\n",
       "\n",
       "    .dataframe thead th {\n",
       "        text-align: right;\n",
       "    }\n",
       "</style>\n",
       "<table border=\"1\" class=\"dataframe\">\n",
       "  <thead>\n",
       "    <tr style=\"text-align: right;\">\n",
       "      <th>attributeName</th>\n",
       "      <th>Beet Sugar Production</th>\n",
       "      <th>Beginning Stocks</th>\n",
       "      <th>Cane Sugar Production</th>\n",
       "      <th>Ending Stocks</th>\n",
       "      <th>Exports</th>\n",
       "      <th>Human Dom. Consumption</th>\n",
       "      <th>Imports</th>\n",
       "      <th>Other Disappearance</th>\n",
       "      <th>Production</th>\n",
       "      <th>Raw Exports</th>\n",
       "      <th>Raw Imports</th>\n",
       "      <th>Refined Exp.(Raw Val)</th>\n",
       "      <th>Refined Imp.(Raw Val)</th>\n",
       "      <th>Total Disappearance</th>\n",
       "      <th>Total Distribution</th>\n",
       "      <th>Total Supply</th>\n",
       "    </tr>\n",
       "    <tr>\n",
       "      <th>marketYear</th>\n",
       "      <th></th>\n",
       "      <th></th>\n",
       "      <th></th>\n",
       "      <th></th>\n",
       "      <th></th>\n",
       "      <th></th>\n",
       "      <th></th>\n",
       "      <th></th>\n",
       "      <th></th>\n",
       "      <th></th>\n",
       "      <th></th>\n",
       "      <th></th>\n",
       "      <th></th>\n",
       "      <th></th>\n",
       "      <th></th>\n",
       "      <th></th>\n",
       "    </tr>\n",
       "  </thead>\n",
       "  <tbody>\n",
       "    <tr>\n",
       "      <th>2015</th>\n",
       "      <td>4439.0</td>\n",
       "      <td>1642.0</td>\n",
       "      <td>3414.0</td>\n",
       "      <td>1647.0</td>\n",
       "      <td>168.0</td>\n",
       "      <td>10785.0</td>\n",
       "      <td>3223.0</td>\n",
       "      <td>118.0</td>\n",
       "      <td>7853.0</td>\n",
       "      <td>0.0</td>\n",
       "      <td>2368.0</td>\n",
       "      <td>168.0</td>\n",
       "      <td>855.0</td>\n",
       "      <td>10903.0</td>\n",
       "      <td>12718.0</td>\n",
       "      <td>12718.0</td>\n",
       "    </tr>\n",
       "    <tr>\n",
       "      <th>2016</th>\n",
       "      <td>4644.0</td>\n",
       "      <td>1647.0</td>\n",
       "      <td>3511.0</td>\n",
       "      <td>1863.0</td>\n",
       "      <td>67.0</td>\n",
       "      <td>10779.0</td>\n",
       "      <td>3031.0</td>\n",
       "      <td>124.0</td>\n",
       "      <td>8155.0</td>\n",
       "      <td>0.0</td>\n",
       "      <td>2203.0</td>\n",
       "      <td>67.0</td>\n",
       "      <td>828.0</td>\n",
       "      <td>10903.0</td>\n",
       "      <td>12833.0</td>\n",
       "      <td>12833.0</td>\n",
       "    </tr>\n",
       "    <tr>\n",
       "      <th>2017</th>\n",
       "      <td>4630.0</td>\n",
       "      <td>1863.0</td>\n",
       "      <td>3507.0</td>\n",
       "      <td>1702.0</td>\n",
       "      <td>86.0</td>\n",
       "      <td>10979.0</td>\n",
       "      <td>2943.0</td>\n",
       "      <td>176.0</td>\n",
       "      <td>8137.0</td>\n",
       "      <td>0.0</td>\n",
       "      <td>2209.0</td>\n",
       "      <td>86.0</td>\n",
       "      <td>734.0</td>\n",
       "      <td>11155.0</td>\n",
       "      <td>12943.0</td>\n",
       "      <td>12943.0</td>\n",
       "    </tr>\n",
       "    <tr>\n",
       "      <th>2018</th>\n",
       "      <td>4789.0</td>\n",
       "      <td>1702.0</td>\n",
       "      <td>3641.0</td>\n",
       "      <td>1822.0</td>\n",
       "      <td>154.0</td>\n",
       "      <td>10930.0</td>\n",
       "      <td>2972.0</td>\n",
       "      <td>198.0</td>\n",
       "      <td>8430.0</td>\n",
       "      <td>0.0</td>\n",
       "      <td>2266.0</td>\n",
       "      <td>154.0</td>\n",
       "      <td>706.0</td>\n",
       "      <td>11128.0</td>\n",
       "      <td>13104.0</td>\n",
       "      <td>13104.0</td>\n",
       "    </tr>\n",
       "    <tr>\n",
       "      <th>2019</th>\n",
       "      <td>4481.0</td>\n",
       "      <td>1822.0</td>\n",
       "      <td>3683.0</td>\n",
       "      <td>1618.0</td>\n",
       "      <td>32.0</td>\n",
       "      <td>10982.0</td>\n",
       "      <td>2785.0</td>\n",
       "      <td>139.0</td>\n",
       "      <td>8164.0</td>\n",
       "      <td>0.0</td>\n",
       "      <td>2145.0</td>\n",
       "      <td>32.0</td>\n",
       "      <td>640.0</td>\n",
       "      <td>11121.0</td>\n",
       "      <td>12771.0</td>\n",
       "      <td>12771.0</td>\n",
       "    </tr>\n",
       "  </tbody>\n",
       "</table>\n",
       "</div>"
      ],
      "text/plain": [
       "attributeName  Beet Sugar Production  Beginning Stocks  Cane Sugar Production  \\\n",
       "marketYear                                                                      \n",
       "2015                          4439.0            1642.0                 3414.0   \n",
       "2016                          4644.0            1647.0                 3511.0   \n",
       "2017                          4630.0            1863.0                 3507.0   \n",
       "2018                          4789.0            1702.0                 3641.0   \n",
       "2019                          4481.0            1822.0                 3683.0   \n",
       "\n",
       "attributeName  Ending Stocks  Exports  Human Dom. Consumption  Imports  \\\n",
       "marketYear                                                               \n",
       "2015                  1647.0    168.0                 10785.0   3223.0   \n",
       "2016                  1863.0     67.0                 10779.0   3031.0   \n",
       "2017                  1702.0     86.0                 10979.0   2943.0   \n",
       "2018                  1822.0    154.0                 10930.0   2972.0   \n",
       "2019                  1618.0     32.0                 10982.0   2785.0   \n",
       "\n",
       "attributeName  Other Disappearance  Production  Raw Exports  Raw Imports  \\\n",
       "marketYear                                                                 \n",
       "2015                         118.0      7853.0          0.0       2368.0   \n",
       "2016                         124.0      8155.0          0.0       2203.0   \n",
       "2017                         176.0      8137.0          0.0       2209.0   \n",
       "2018                         198.0      8430.0          0.0       2266.0   \n",
       "2019                         139.0      8164.0          0.0       2145.0   \n",
       "\n",
       "attributeName  Refined Exp.(Raw Val)  Refined Imp.(Raw Val)  \\\n",
       "marketYear                                                    \n",
       "2015                           168.0                  855.0   \n",
       "2016                            67.0                  828.0   \n",
       "2017                            86.0                  734.0   \n",
       "2018                           154.0                  706.0   \n",
       "2019                            32.0                  640.0   \n",
       "\n",
       "attributeName  Total Disappearance  Total Distribution  Total Supply  \n",
       "marketYear                                                            \n",
       "2015                       10903.0             12718.0       12718.0  \n",
       "2016                       10903.0             12833.0       12833.0  \n",
       "2017                       11155.0             12943.0       12943.0  \n",
       "2018                       11128.0             13104.0       13104.0  \n",
       "2019                       11121.0             12771.0       12771.0  "
      ]
     },
     "execution_count": 99,
     "metadata": {},
     "output_type": "execute_result"
    }
   ],
   "source": [
    "sugar_dataframe_usa.tail()"
   ]
  },
  {
   "cell_type": "code",
   "execution_count": 124,
   "metadata": {},
   "outputs": [
    {
     "data": {
      "image/png": "[encoded data removed]",
      "text/plain": [
       "<Figure size 360x360 with 1 Axes>"
      ]
     },
     "metadata": {
      "needs_background": "light"
     },
     "output_type": "display_data"
    }
   ],
   "source": [
    "# Relationship between some indicators\n",
    "seaborn.lmplot(\n",
    "    data=sugar_dataframe_usa,\n",
    "    x='Beginning Stocks',\n",
    "    y='Production'\n",
    ")\n",
    "plt.title('Beginning Stocks and Production')\n",
    "plt.show();"
   ]
  },
  {
   "cell_type": "code",
   "execution_count": 125,
   "metadata": {},
   "outputs": [
    {
     "data": {
      "image/png": "[encoded data removed]",
      "text/plain": [
       "<Figure size 360x360 with 1 Axes>"
      ]
     },
     "metadata": {
      "needs_background": "light"
     },
     "output_type": "display_data"
    }
   ],
   "source": [
    "seaborn.lmplot(\n",
    "    data=sugar_dataframe_usa,\n",
    "    x='Raw Imports',\n",
    "    y='Production'\n",
    ")\n",
    "plt.title('Raw Imports and Production')\n",
    "plt.show();"
   ]
  },
  {
   "cell_type": "code",
   "execution_count": 126,
   "metadata": {},
   "outputs": [
    {
     "data": {
      "image/png": "[encoded data removed]",
      "text/plain": [
       "<Figure size 360x360 with 1 Axes>"
      ]
     },
     "metadata": {
      "needs_background": "light"
     },
     "output_type": "display_data"
    }
   ],
   "source": [
    "seaborn.lmplot(\n",
    "    data=sugar_dataframe_usa,\n",
    "    x='Imports',\n",
    "    y='Production'\n",
    ")\n",
    "plt.title('Imports and Production')\n",
    "plt.show();"
   ]
  },
  {
   "cell_type": "code",
   "execution_count": null,
   "metadata": {},
   "outputs": [],
   "source": []
  }
 ],
 "metadata": {
  "kernelspec": {
   "display_name": "Python 3 (ipykernel)",
   "language": "python",
   "name": "python3"
  },
  "language_info": {
   "codemirror_mode": {
    "name": "ipython",
    "version": 3
   },
   "file_extension": ".py",
   "mimetype": "text/x-python",
   "name": "python",
   "nbconvert_exporter": "python",
   "pygments_lexer": "ipython3",
   "version": "3.8.8"
  }
 },
 "nbformat": 4,
 "nbformat_minor": 4
}
