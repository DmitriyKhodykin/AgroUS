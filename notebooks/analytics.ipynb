{
 "cells": [
  {
   "cell_type": "markdown",
   "metadata": {},
   "source": [
    "# AgroUS"
   ]
  },
  {
   "cell_type": "markdown",
   "metadata": {},
   "source": [
    "Machine learning project for predicting Production, Supply and Distribution of World Agricultural Commodities"
   ]
  },
  {
   "cell_type": "markdown",
   "metadata": {},
   "source": [
    "Dmitriy Khodykin d.hodikin@yandex.ru"
   ]
  },
  {
   "cell_type": "code",
   "execution_count": 1,
   "metadata": {},
   "outputs": [],
   "source": [
    "# imports\n",
    "import numpy\n",
    "import pandas\n",
    "import matplotlib.pyplot as plt\n",
    "import seaborn"
   ]
  },
  {
   "cell_type": "markdown",
   "metadata": {},
   "source": [
    "## Import data"
   ]
  },
  {
   "cell_type": "markdown",
   "metadata": {},
   "source": [
    "Returns a set of records with Forecast number for a given Commodity Code (Ex, 0440000 for Corn) and a given Market Year (Ex, 2017) for all applicable countries. PSD Database has data for most commodities since year 1960."
   ]
  },
  {
   "cell_type": "code",
   "execution_count": 2,
   "metadata": {},
   "outputs": [],
   "source": [
    "data = pandas.read_parquet('../data/data.parquet')"
   ]
  },
  {
   "cell_type": "code",
   "execution_count": 3,
   "metadata": {
    "scrolled": true
   },
   "outputs": [
    {
     "data": {
      "text/html": [
       "<div>\n",
       "<style scoped>\n",
       "    .dataframe tbody tr th:only-of-type {\n",
       "        vertical-align: middle;\n",
       "    }\n",
       "\n",
       "    .dataframe tbody tr th {\n",
       "        vertical-align: top;\n",
       "    }\n",
       "\n",
       "    .dataframe thead th {\n",
       "        text-align: right;\n",
       "    }\n",
       "</style>\n",
       "<table border=\"1\" class=\"dataframe\">\n",
       "  <thead>\n",
       "    <tr style=\"text-align: right;\">\n",
       "      <th></th>\n",
       "      <th>commodityCode</th>\n",
       "      <th>countryCode</th>\n",
       "      <th>marketYear</th>\n",
       "      <th>calendarYear</th>\n",
       "      <th>month</th>\n",
       "      <th>attributeId</th>\n",
       "      <th>unitId</th>\n",
       "      <th>value</th>\n",
       "      <th>commodityName</th>\n",
       "      <th>attributeName</th>\n",
       "      <th>unitDescription</th>\n",
       "    </tr>\n",
       "  </thead>\n",
       "  <tbody>\n",
       "    <tr>\n",
       "      <th>0</th>\n",
       "      <td>0577400</td>\n",
       "      <td>GR</td>\n",
       "      <td>1990</td>\n",
       "      <td>1991</td>\n",
       "      <td>00</td>\n",
       "      <td>1</td>\n",
       "      <td>12</td>\n",
       "      <td>45400.0</td>\n",
       "      <td>Almonds, Shelled Basis</td>\n",
       "      <td>Area Planted</td>\n",
       "      <td>(HA)</td>\n",
       "    </tr>\n",
       "    <tr>\n",
       "      <th>1</th>\n",
       "      <td>0577400</td>\n",
       "      <td>GR</td>\n",
       "      <td>1990</td>\n",
       "      <td>1991</td>\n",
       "      <td>00</td>\n",
       "      <td>4</td>\n",
       "      <td>12</td>\n",
       "      <td>41500.0</td>\n",
       "      <td>Almonds, Shelled Basis</td>\n",
       "      <td>Area Harvested</td>\n",
       "      <td>(HA)</td>\n",
       "    </tr>\n",
       "    <tr>\n",
       "      <th>2</th>\n",
       "      <td>0577400</td>\n",
       "      <td>GR</td>\n",
       "      <td>1990</td>\n",
       "      <td>1991</td>\n",
       "      <td>00</td>\n",
       "      <td>17</td>\n",
       "      <td>10</td>\n",
       "      <td>15100.0</td>\n",
       "      <td>Almonds, Shelled Basis</td>\n",
       "      <td>Bearing Trees</td>\n",
       "      <td>(1000 TREES)</td>\n",
       "    </tr>\n",
       "    <tr>\n",
       "      <th>3</th>\n",
       "      <td>0577400</td>\n",
       "      <td>GR</td>\n",
       "      <td>1990</td>\n",
       "      <td>1991</td>\n",
       "      <td>00</td>\n",
       "      <td>19</td>\n",
       "      <td>10</td>\n",
       "      <td>800.0</td>\n",
       "      <td>Almonds, Shelled Basis</td>\n",
       "      <td>Non-Bearing Trees</td>\n",
       "      <td>(1000 TREES)</td>\n",
       "    </tr>\n",
       "    <tr>\n",
       "      <th>4</th>\n",
       "      <td>0577400</td>\n",
       "      <td>GR</td>\n",
       "      <td>1990</td>\n",
       "      <td>1991</td>\n",
       "      <td>00</td>\n",
       "      <td>16</td>\n",
       "      <td>10</td>\n",
       "      <td>15900.0</td>\n",
       "      <td>Almonds, Shelled Basis</td>\n",
       "      <td>Total Trees</td>\n",
       "      <td>(1000 TREES)</td>\n",
       "    </tr>\n",
       "  </tbody>\n",
       "</table>\n",
       "</div>"
      ],
      "text/plain": [
       "  commodityCode countryCode marketYear calendarYear month  attributeId  \\\n",
       "0       0577400          GR       1990         1991    00            1   \n",
       "1       0577400          GR       1990         1991    00            4   \n",
       "2       0577400          GR       1990         1991    00           17   \n",
       "3       0577400          GR       1990         1991    00           19   \n",
       "4       0577400          GR       1990         1991    00           16   \n",
       "\n",
       "   unitId    value           commodityName      attributeName  \\\n",
       "0      12  45400.0  Almonds, Shelled Basis       Area Planted   \n",
       "1      12  41500.0  Almonds, Shelled Basis     Area Harvested   \n",
       "2      10  15100.0  Almonds, Shelled Basis      Bearing Trees   \n",
       "3      10    800.0  Almonds, Shelled Basis  Non-Bearing Trees   \n",
       "4      10  15900.0  Almonds, Shelled Basis        Total Trees   \n",
       "\n",
       "        unitDescription  \n",
       "0  (HA)                  \n",
       "1  (HA)                  \n",
       "2  (1000 TREES)          \n",
       "3  (1000 TREES)          \n",
       "4  (1000 TREES)          "
      ]
     },
     "execution_count": 3,
     "metadata": {},
     "output_type": "execute_result"
    }
   ],
   "source": [
    "data.head()"
   ]
  },
  {
   "cell_type": "code",
   "execution_count": 4,
   "metadata": {},
   "outputs": [
    {
     "name": "stdout",
     "output_type": "stream",
     "text": [
      "<class 'pandas.core.frame.DataFrame'>\n",
      "Int64Index: 1410644 entries, 0 to 1410643\n",
      "Data columns (total 11 columns):\n",
      " #   Column           Non-Null Count    Dtype  \n",
      "---  ------           --------------    -----  \n",
      " 0   commodityCode    1410644 non-null  object \n",
      " 1   countryCode      1410644 non-null  object \n",
      " 2   marketYear       1410644 non-null  object \n",
      " 3   calendarYear     1410644 non-null  object \n",
      " 4   month            1410644 non-null  object \n",
      " 5   attributeId      1410644 non-null  int64  \n",
      " 6   unitId           1410644 non-null  int64  \n",
      " 7   value            1410644 non-null  float64\n",
      " 8   commodityName    1410644 non-null  object \n",
      " 9   attributeName    1410644 non-null  object \n",
      " 10  unitDescription  1410644 non-null  object \n",
      "dtypes: float64(1), int64(2), object(8)\n",
      "memory usage: 129.1+ MB\n"
     ]
    }
   ],
   "source": [
    "data.info()"
   ]
  },
  {
   "cell_type": "markdown",
   "metadata": {},
   "source": [
    "## Analytics data"
   ]
  },
  {
   "cell_type": "code",
   "execution_count": 5,
   "metadata": {},
   "outputs": [
    {
     "data": {
      "text/plain": [
       "Sugar, Centrifugal          75760\n",
       "Cotton                      55770\n",
       "Wheat                       55650\n",
       "Corn                        55215\n",
       "Coffee, Green               53375\n",
       "                            ...  \n",
       "Orange Juice                 4653\n",
       "Mixed Grain                  2655\n",
       "Oilseed, Soybean (Local)     1260\n",
       "Meal, Soybean (Local)        1260\n",
       "Oil, Soybean (Local)         1200\n",
       "Name: commodityName, Length: 64, dtype: int64"
      ]
     },
     "execution_count": 5,
     "metadata": {},
     "output_type": "execute_result"
    }
   ],
   "source": [
    "data['commodityName'].value_counts()"
   ]
  },
  {
   "cell_type": "code",
   "execution_count": 6,
   "metadata": {},
   "outputs": [
    {
     "data": {
      "image/png": "[encoded data removed]",
      "text/plain": [
       "<Figure size 432x288 with 1 Axes>"
      ]
     },
     "metadata": {
      "needs_background": "light"
     },
     "output_type": "display_data"
    }
   ],
   "source": [
    "# Subset TOP-10 Commodities\n",
    "top_10 = data['commodityName'].value_counts().head(10)\n",
    "\n",
    "seaborn.barplot(\n",
    "    x = top_10, \n",
    "    y = top_10.index\n",
    ");"
   ]
  },
  {
   "cell_type": "markdown",
   "metadata": {},
   "source": [
    "### Common Code"
   ]
  },
  {
   "cell_type": "code",
   "execution_count": 106,
   "metadata": {},
   "outputs": [],
   "source": [
    "def show_plot(data, x_label, y_label, attribute_name):\n",
    "    \"\"\"\n",
    "    Show seaborn barplot.\n",
    "    \"\"\"   \n",
    "    seaborn.lineplot(\n",
    "        x = data[x_label], \n",
    "        y = data[y_label])\n",
    "    plt.suptitle(f'{attribute_name}', \n",
    "                 fontsize=16)\n",
    "    plt.xticks(rotation=90)\n",
    "    plt.show();"
   ]
  },
  {
   "cell_type": "markdown",
   "metadata": {},
   "source": [
    "### Oil, Palm"
   ]
  },
  {
   "cell_type": "code",
   "execution_count": 8,
   "metadata": {
    "scrolled": true
   },
   "outputs": [
    {
     "data": {
      "text/html": [
       "<div>\n",
       "<style scoped>\n",
       "    .dataframe tbody tr th:only-of-type {\n",
       "        vertical-align: middle;\n",
       "    }\n",
       "\n",
       "    .dataframe tbody tr th {\n",
       "        vertical-align: top;\n",
       "    }\n",
       "\n",
       "    .dataframe thead th {\n",
       "        text-align: right;\n",
       "    }\n",
       "</style>\n",
       "<table border=\"1\" class=\"dataframe\">\n",
       "  <thead>\n",
       "    <tr style=\"text-align: right;\">\n",
       "      <th></th>\n",
       "      <th>commodityCode</th>\n",
       "      <th>countryCode</th>\n",
       "      <th>marketYear</th>\n",
       "      <th>calendarYear</th>\n",
       "      <th>month</th>\n",
       "      <th>attributeId</th>\n",
       "      <th>unitId</th>\n",
       "      <th>value</th>\n",
       "      <th>commodityName</th>\n",
       "      <th>attributeName</th>\n",
       "      <th>unitDescription</th>\n",
       "    </tr>\n",
       "  </thead>\n",
       "  <tbody>\n",
       "    <tr>\n",
       "      <th>719257</th>\n",
       "      <td>4243000</td>\n",
       "      <td>AF</td>\n",
       "      <td>1990</td>\n",
       "      <td>2006</td>\n",
       "      <td>06</td>\n",
       "      <td>1</td>\n",
       "      <td>4</td>\n",
       "      <td>0.0</td>\n",
       "      <td>Oil, Palm</td>\n",
       "      <td>Area Planted</td>\n",
       "      <td>(1000 HA)</td>\n",
       "    </tr>\n",
       "    <tr>\n",
       "      <th>719258</th>\n",
       "      <td>4243000</td>\n",
       "      <td>AF</td>\n",
       "      <td>1990</td>\n",
       "      <td>2006</td>\n",
       "      <td>06</td>\n",
       "      <td>4</td>\n",
       "      <td>4</td>\n",
       "      <td>0.0</td>\n",
       "      <td>Oil, Palm</td>\n",
       "      <td>Area Harvested</td>\n",
       "      <td>(1000 HA)</td>\n",
       "    </tr>\n",
       "    <tr>\n",
       "      <th>719259</th>\n",
       "      <td>4243000</td>\n",
       "      <td>AF</td>\n",
       "      <td>1990</td>\n",
       "      <td>2006</td>\n",
       "      <td>06</td>\n",
       "      <td>16</td>\n",
       "      <td>10</td>\n",
       "      <td>0.0</td>\n",
       "      <td>Oil, Palm</td>\n",
       "      <td>Total Trees</td>\n",
       "      <td>(1000 TREES)</td>\n",
       "    </tr>\n",
       "    <tr>\n",
       "      <th>719260</th>\n",
       "      <td>4243000</td>\n",
       "      <td>AF</td>\n",
       "      <td>1990</td>\n",
       "      <td>2006</td>\n",
       "      <td>06</td>\n",
       "      <td>20</td>\n",
       "      <td>8</td>\n",
       "      <td>0.0</td>\n",
       "      <td>Oil, Palm</td>\n",
       "      <td>Beginning Stocks</td>\n",
       "      <td>(1000 MT)</td>\n",
       "    </tr>\n",
       "    <tr>\n",
       "      <th>719261</th>\n",
       "      <td>4243000</td>\n",
       "      <td>AF</td>\n",
       "      <td>1990</td>\n",
       "      <td>2006</td>\n",
       "      <td>06</td>\n",
       "      <td>28</td>\n",
       "      <td>8</td>\n",
       "      <td>0.0</td>\n",
       "      <td>Oil, Palm</td>\n",
       "      <td>Production</td>\n",
       "      <td>(1000 MT)</td>\n",
       "    </tr>\n",
       "  </tbody>\n",
       "</table>\n",
       "</div>"
      ],
      "text/plain": [
       "       commodityCode countryCode marketYear calendarYear month  attributeId  \\\n",
       "719257       4243000          AF       1990         2006    06            1   \n",
       "719258       4243000          AF       1990         2006    06            4   \n",
       "719259       4243000          AF       1990         2006    06           16   \n",
       "719260       4243000          AF       1990         2006    06           20   \n",
       "719261       4243000          AF       1990         2006    06           28   \n",
       "\n",
       "        unitId  value commodityName     attributeName       unitDescription  \n",
       "719257       4    0.0     Oil, Palm      Area Planted  (1000 HA)             \n",
       "719258       4    0.0     Oil, Palm    Area Harvested  (1000 HA)             \n",
       "719259      10    0.0     Oil, Palm       Total Trees  (1000 TREES)          \n",
       "719260       8    0.0     Oil, Palm  Beginning Stocks  (1000 MT)             \n",
       "719261       8    0.0     Oil, Palm        Production  (1000 MT)             "
      ]
     },
     "execution_count": 8,
     "metadata": {},
     "output_type": "execute_result"
    }
   ],
   "source": [
    "palm_oil = data[data['commodityName'] == 'Oil, Palm']\n",
    "palm_oil.head()"
   ]
  },
  {
   "cell_type": "code",
   "execution_count": 9,
   "metadata": {},
   "outputs": [
    {
     "name": "stdout",
     "output_type": "stream",
     "text": [
      "['AF', 'AG', 'AO', 'AS', 'AU', 'BE', 'BG', 'BM', 'BR', 'CA', 'CE', 'CG', 'CH', 'CM', 'CO', 'CS', 'DA', 'DJ', 'DM', 'DR', 'E2', 'E4', 'EC', 'EG', 'EI', 'ES', 'ET', 'FI', 'FR', 'GE', 'GH', 'GR', 'GT', 'GU', 'HA', 'HK', 'HO', 'ID', 'IN', 'IR', 'IT', 'IV', 'IZ', 'JA', 'JO', 'KE', 'KN', 'KS', 'KU', 'LI', 'MR', 'MU', 'MX', 'MY', 'MZ', 'NI', 'NL', 'NO', 'NZ', 'PE', 'PK', 'PL', 'PO', 'PP', 'RH', 'RP', 'RS', 'RW', 'SA', 'SF', 'SG', 'SL', 'SN', 'SP', 'SU', 'SW', 'SZ', 'TC', 'TH', 'TO', 'TS', 'TU', 'TW', 'TZ', 'UK', 'UP', 'US', 'VE', 'VM', 'YE', 'YM', 'YO', 'YS', 'ZZ']\n"
     ]
    }
   ],
   "source": [
    "palm_oil_country_codes = set(palm_oil['countryCode'])\n",
    "print(sorted(palm_oil_country_codes))"
   ]
  },
  {
   "cell_type": "code",
   "execution_count": 10,
   "metadata": {},
   "outputs": [
    {
     "name": "stdout",
     "output_type": "stream",
     "text": [
      "['Area Harvested', 'Area Planted', 'Beginning Stocks', 'CY Exp. to U.S.', 'CY Exports', 'CY Imp. from U.S.', 'CY Imports', 'Domestic Consumption', 'Ending Stocks', 'Exports', 'Feed Waste Dom. Cons.', 'Food Use Dom. Cons.', 'Imports', 'Industrial Dom. Cons.', 'MY Exp. to EU', 'MY Imp. from EU', 'MY Imp. from U.S.', 'Production', 'Total Distribution', 'Total Supply', 'Total Trees', 'Yield']\n"
     ]
    }
   ],
   "source": [
    "palm_oil_attribute_names = set(palm_oil['attributeName'])\n",
    "print(sorted(palm_oil_attribute_names))"
   ]
  },
  {
   "cell_type": "code",
   "execution_count": 11,
   "metadata": {},
   "outputs": [],
   "source": [
    "# Subset TOP-10 countries\n",
    "palm_oil_production = palm_oil[\n",
    "    palm_oil['attributeName'] == 'Production'\n",
    "]\n",
    "\n",
    "palm_oil_grouped_by_country = palm_oil_production.groupby(['countryCode'])['value'].sum()\n",
    "palm_oil_grouped_by_country_sorted = palm_oil_grouped_by_country.sort_values(ascending=False)\n",
    "palm_oil_top_10_countries = palm_oil_grouped_by_country_sorted.head(10)"
   ]
  },
  {
   "cell_type": "code",
   "execution_count": 12,
   "metadata": {},
   "outputs": [
    {
     "data": {
      "image/png": "[encoded data removed]",
      "text/plain": [
       "<Figure size 432x288 with 1 Axes>"
      ]
     },
     "metadata": {
      "needs_background": "light"
     },
     "output_type": "display_data"
    }
   ],
   "source": [
    "seaborn.barplot(\n",
    "    x = palm_oil_top_10_countries, \n",
    "    y = palm_oil_top_10_countries.index\n",
    ");"
   ]
  },
  {
   "cell_type": "code",
   "execution_count": 13,
   "metadata": {},
   "outputs": [],
   "source": [
    "# Production in the Indonesia\n",
    "palm_oil_production_id = data[(data['commodityName'] == 'Oil, Palm') & \\\n",
    "                              (data['attributeName'] == 'Production') & \\\n",
    "                              (data['countryCode'] == 'ID')] \\\n",
    "                              [['countryCode', 'marketYear', 'calendarYear', \n",
    "                                'month', 'value', 'unitDescription']]"
   ]
  },
  {
   "cell_type": "code",
   "execution_count": 14,
   "metadata": {
    "scrolled": false
   },
   "outputs": [
    {
     "data": {
      "text/html": [
       "<div>\n",
       "<style scoped>\n",
       "    .dataframe tbody tr th:only-of-type {\n",
       "        vertical-align: middle;\n",
       "    }\n",
       "\n",
       "    .dataframe tbody tr th {\n",
       "        vertical-align: top;\n",
       "    }\n",
       "\n",
       "    .dataframe thead th {\n",
       "        text-align: right;\n",
       "    }\n",
       "</style>\n",
       "<table border=\"1\" class=\"dataframe\">\n",
       "  <thead>\n",
       "    <tr style=\"text-align: right;\">\n",
       "      <th></th>\n",
       "      <th>countryCode</th>\n",
       "      <th>marketYear</th>\n",
       "      <th>calendarYear</th>\n",
       "      <th>month</th>\n",
       "      <th>value</th>\n",
       "      <th>unitDescription</th>\n",
       "    </tr>\n",
       "  </thead>\n",
       "  <tbody>\n",
       "    <tr>\n",
       "      <th>759191</th>\n",
       "      <td>ID</td>\n",
       "      <td>2015</td>\n",
       "      <td>2021</td>\n",
       "      <td>05</td>\n",
       "      <td>32000.0</td>\n",
       "      <td>(1000 MT)</td>\n",
       "    </tr>\n",
       "    <tr>\n",
       "      <th>760841</th>\n",
       "      <td>ID</td>\n",
       "      <td>2016</td>\n",
       "      <td>2021</td>\n",
       "      <td>05</td>\n",
       "      <td>36000.0</td>\n",
       "      <td>(1000 MT)</td>\n",
       "    </tr>\n",
       "    <tr>\n",
       "      <th>762513</th>\n",
       "      <td>ID</td>\n",
       "      <td>2017</td>\n",
       "      <td>2021</td>\n",
       "      <td>05</td>\n",
       "      <td>39500.0</td>\n",
       "      <td>(1000 MT)</td>\n",
       "    </tr>\n",
       "    <tr>\n",
       "      <th>764185</th>\n",
       "      <td>ID</td>\n",
       "      <td>2018</td>\n",
       "      <td>2021</td>\n",
       "      <td>05</td>\n",
       "      <td>41500.0</td>\n",
       "      <td>(1000 MT)</td>\n",
       "    </tr>\n",
       "    <tr>\n",
       "      <th>765857</th>\n",
       "      <td>ID</td>\n",
       "      <td>2019</td>\n",
       "      <td>2021</td>\n",
       "      <td>05</td>\n",
       "      <td>42500.0</td>\n",
       "      <td>(1000 MT)</td>\n",
       "    </tr>\n",
       "  </tbody>\n",
       "</table>\n",
       "</div>"
      ],
      "text/plain": [
       "       countryCode marketYear calendarYear month    value  \\\n",
       "759191          ID       2015         2021    05  32000.0   \n",
       "760841          ID       2016         2021    05  36000.0   \n",
       "762513          ID       2017         2021    05  39500.0   \n",
       "764185          ID       2018         2021    05  41500.0   \n",
       "765857          ID       2019         2021    05  42500.0   \n",
       "\n",
       "             unitDescription  \n",
       "759191  (1000 MT)             \n",
       "760841  (1000 MT)             \n",
       "762513  (1000 MT)             \n",
       "764185  (1000 MT)             \n",
       "765857  (1000 MT)             "
      ]
     },
     "execution_count": 14,
     "metadata": {},
     "output_type": "execute_result"
    }
   ],
   "source": [
    "palm_oil_production_id.sort_values('marketYear').tail()"
   ]
  },
  {
   "cell_type": "code",
   "execution_count": 15,
   "metadata": {},
   "outputs": [
    {
     "data": {
      "image/png": "[encoded data removed]",
      "text/plain": [
       "<Figure size 432x288 with 1 Axes>"
      ]
     },
     "metadata": {
      "needs_background": "light"
     },
     "output_type": "display_data"
    }
   ],
   "source": [
    "show_plot(\n",
    "    palm_oil_production_id, \n",
    "    'marketYear', \n",
    "    'value',\n",
    "    'Palm Oil Production in The Indonesia'\n",
    "    )"
   ]
  },
  {
   "cell_type": "code",
   "execution_count": 16,
   "metadata": {},
   "outputs": [],
   "source": [
    "# Ending Stocks in the Indonesia\n",
    "palm_oil_ending_stocks_id = data[(data['commodityName'] == 'Oil, Palm') & \\\n",
    "                                 (data['attributeName'] == 'Ending Stocks') & \\\n",
    "                                 (data['countryCode'] == 'ID')] \\\n",
    "                                  [['countryCode', 'marketYear', 'calendarYear', \n",
    "                                    'month', 'value', 'unitDescription']]"
   ]
  },
  {
   "cell_type": "code",
   "execution_count": 17,
   "metadata": {},
   "outputs": [
    {
     "data": {
      "text/html": [
       "<div>\n",
       "<style scoped>\n",
       "    .dataframe tbody tr th:only-of-type {\n",
       "        vertical-align: middle;\n",
       "    }\n",
       "\n",
       "    .dataframe tbody tr th {\n",
       "        vertical-align: top;\n",
       "    }\n",
       "\n",
       "    .dataframe thead th {\n",
       "        text-align: right;\n",
       "    }\n",
       "</style>\n",
       "<table border=\"1\" class=\"dataframe\">\n",
       "  <thead>\n",
       "    <tr style=\"text-align: right;\">\n",
       "      <th></th>\n",
       "      <th>countryCode</th>\n",
       "      <th>marketYear</th>\n",
       "      <th>calendarYear</th>\n",
       "      <th>month</th>\n",
       "      <th>value</th>\n",
       "      <th>unitDescription</th>\n",
       "    </tr>\n",
       "  </thead>\n",
       "  <tbody>\n",
       "    <tr>\n",
       "      <th>759202</th>\n",
       "      <td>ID</td>\n",
       "      <td>2015</td>\n",
       "      <td>2021</td>\n",
       "      <td>05</td>\n",
       "      <td>2863.0</td>\n",
       "      <td>(1000 MT)</td>\n",
       "    </tr>\n",
       "    <tr>\n",
       "      <th>760852</th>\n",
       "      <td>ID</td>\n",
       "      <td>2016</td>\n",
       "      <td>2021</td>\n",
       "      <td>05</td>\n",
       "      <td>2110.0</td>\n",
       "      <td>(1000 MT)</td>\n",
       "    </tr>\n",
       "    <tr>\n",
       "      <th>762524</th>\n",
       "      <td>ID</td>\n",
       "      <td>2017</td>\n",
       "      <td>2021</td>\n",
       "      <td>05</td>\n",
       "      <td>3089.0</td>\n",
       "      <td>(1000 MT)</td>\n",
       "    </tr>\n",
       "    <tr>\n",
       "      <th>764196</th>\n",
       "      <td>ID</td>\n",
       "      <td>2018</td>\n",
       "      <td>2021</td>\n",
       "      <td>05</td>\n",
       "      <td>2909.0</td>\n",
       "      <td>(1000 MT)</td>\n",
       "    </tr>\n",
       "    <tr>\n",
       "      <th>765868</th>\n",
       "      <td>ID</td>\n",
       "      <td>2019</td>\n",
       "      <td>2021</td>\n",
       "      <td>05</td>\n",
       "      <td>4626.0</td>\n",
       "      <td>(1000 MT)</td>\n",
       "    </tr>\n",
       "  </tbody>\n",
       "</table>\n",
       "</div>"
      ],
      "text/plain": [
       "       countryCode marketYear calendarYear month   value       unitDescription\n",
       "759202          ID       2015         2021    05  2863.0  (1000 MT)           \n",
       "760852          ID       2016         2021    05  2110.0  (1000 MT)           \n",
       "762524          ID       2017         2021    05  3089.0  (1000 MT)           \n",
       "764196          ID       2018         2021    05  2909.0  (1000 MT)           \n",
       "765868          ID       2019         2021    05  4626.0  (1000 MT)           "
      ]
     },
     "execution_count": 17,
     "metadata": {},
     "output_type": "execute_result"
    }
   ],
   "source": [
    "palm_oil_ending_stocks_id.sort_values('marketYear').tail()"
   ]
  },
  {
   "cell_type": "code",
   "execution_count": 18,
   "metadata": {},
   "outputs": [
    {
     "data": {
      "image/png": "[encoded data removed]",
      "text/plain": [
       "<Figure size 432x288 with 1 Axes>"
      ]
     },
     "metadata": {
      "needs_background": "light"
     },
     "output_type": "display_data"
    }
   ],
   "source": [
    "show_plot(\n",
    "    palm_oil_ending_stocks_id, \n",
    "    'marketYear', \n",
    "    'value', \n",
    "    'Palm Oil Ending Stocks in The Indonesia'\n",
    "    )"
   ]
  },
  {
   "cell_type": "code",
   "execution_count": 19,
   "metadata": {},
   "outputs": [],
   "source": [
    "# Befining stocks\n",
    "palm_oil_beginning_stocks_id = data[(data['commodityName'] == 'Sugar, Centrifugal') & \\\n",
    "                                    (data['attributeName'] == 'Beginning Stocks') & \\\n",
    "                                    (data['countryCode'] == 'US')] \\\n",
    "                                     [['countryCode', 'marketYear', 'calendarYear', \n",
    "                                       'month', 'value', 'unitDescription']]"
   ]
  },
  {
   "cell_type": "code",
   "execution_count": 20,
   "metadata": {},
   "outputs": [
    {
     "data": {
      "text/html": [
       "<div>\n",
       "<style scoped>\n",
       "    .dataframe tbody tr th:only-of-type {\n",
       "        vertical-align: middle;\n",
       "    }\n",
       "\n",
       "    .dataframe tbody tr th {\n",
       "        vertical-align: top;\n",
       "    }\n",
       "\n",
       "    .dataframe thead th {\n",
       "        text-align: right;\n",
       "    }\n",
       "</style>\n",
       "<table border=\"1\" class=\"dataframe\">\n",
       "  <thead>\n",
       "    <tr style=\"text-align: right;\">\n",
       "      <th></th>\n",
       "      <th>countryCode</th>\n",
       "      <th>marketYear</th>\n",
       "      <th>calendarYear</th>\n",
       "      <th>month</th>\n",
       "      <th>value</th>\n",
       "      <th>unitDescription</th>\n",
       "    </tr>\n",
       "  </thead>\n",
       "  <tbody>\n",
       "    <tr>\n",
       "      <th>1327966</th>\n",
       "      <td>US</td>\n",
       "      <td>2015</td>\n",
       "      <td>2018</td>\n",
       "      <td>11</td>\n",
       "      <td>1642.0</td>\n",
       "      <td>(1000 MT)</td>\n",
       "    </tr>\n",
       "    <tr>\n",
       "      <th>1330366</th>\n",
       "      <td>US</td>\n",
       "      <td>2016</td>\n",
       "      <td>2021</td>\n",
       "      <td>05</td>\n",
       "      <td>1647.0</td>\n",
       "      <td>(1000 MT)</td>\n",
       "    </tr>\n",
       "    <tr>\n",
       "      <th>1332782</th>\n",
       "      <td>US</td>\n",
       "      <td>2017</td>\n",
       "      <td>2021</td>\n",
       "      <td>05</td>\n",
       "      <td>1863.0</td>\n",
       "      <td>(1000 MT)</td>\n",
       "    </tr>\n",
       "    <tr>\n",
       "      <th>1335198</th>\n",
       "      <td>US</td>\n",
       "      <td>2018</td>\n",
       "      <td>2021</td>\n",
       "      <td>05</td>\n",
       "      <td>1702.0</td>\n",
       "      <td>(1000 MT)</td>\n",
       "    </tr>\n",
       "    <tr>\n",
       "      <th>1337614</th>\n",
       "      <td>US</td>\n",
       "      <td>2019</td>\n",
       "      <td>2021</td>\n",
       "      <td>05</td>\n",
       "      <td>1822.0</td>\n",
       "      <td>(1000 MT)</td>\n",
       "    </tr>\n",
       "  </tbody>\n",
       "</table>\n",
       "</div>"
      ],
      "text/plain": [
       "        countryCode marketYear calendarYear month   value  \\\n",
       "1327966          US       2015         2018    11  1642.0   \n",
       "1330366          US       2016         2021    05  1647.0   \n",
       "1332782          US       2017         2021    05  1863.0   \n",
       "1335198          US       2018         2021    05  1702.0   \n",
       "1337614          US       2019         2021    05  1822.0   \n",
       "\n",
       "              unitDescription  \n",
       "1327966  (1000 MT)             \n",
       "1330366  (1000 MT)             \n",
       "1332782  (1000 MT)             \n",
       "1335198  (1000 MT)             \n",
       "1337614  (1000 MT)             "
      ]
     },
     "execution_count": 20,
     "metadata": {},
     "output_type": "execute_result"
    }
   ],
   "source": [
    "palm_oil_beginning_stocks_id.sort_values('marketYear').tail()"
   ]
  },
  {
   "cell_type": "code",
   "execution_count": 21,
   "metadata": {},
   "outputs": [
    {
     "data": {
      "image/png": "[encoded data removed]",
      "text/plain": [
       "<Figure size 432x288 with 1 Axes>"
      ]
     },
     "metadata": {
      "needs_background": "light"
     },
     "output_type": "display_data"
    }
   ],
   "source": [
    "show_plot(\n",
    "    palm_oil_beginning_stocks_id, \n",
    "    'marketYear', \n",
    "    'value', \n",
    "    'Palm Oil Beginning Stocks in The Indonesia'\n",
    "    )"
   ]
  },
  {
   "cell_type": "code",
   "execution_count": 22,
   "metadata": {},
   "outputs": [],
   "source": [
    "# Palm Oil in The Indonesia, all attributes\n",
    "palm_oil_dataframe_id = data[(data['countryCode'] == 'ID') & \\\n",
    "                             (data['commodityName'] == 'Oil, Palm')] \\\n",
    "                              [['marketYear', 'attributeName', 'value']]"
   ]
  },
  {
   "cell_type": "code",
   "execution_count": 23,
   "metadata": {},
   "outputs": [
    {
     "data": {
      "text/html": [
       "<div>\n",
       "<style scoped>\n",
       "    .dataframe tbody tr th:only-of-type {\n",
       "        vertical-align: middle;\n",
       "    }\n",
       "\n",
       "    .dataframe tbody tr th {\n",
       "        vertical-align: top;\n",
       "    }\n",
       "\n",
       "    .dataframe thead th {\n",
       "        text-align: right;\n",
       "    }\n",
       "</style>\n",
       "<table border=\"1\" class=\"dataframe\">\n",
       "  <thead>\n",
       "    <tr style=\"text-align: right;\">\n",
       "      <th></th>\n",
       "      <th>marketYear</th>\n",
       "      <th>attributeName</th>\n",
       "      <th>value</th>\n",
       "    </tr>\n",
       "  </thead>\n",
       "  <tbody>\n",
       "    <tr>\n",
       "      <th>765870</th>\n",
       "      <td>2019</td>\n",
       "      <td>CY Imports</td>\n",
       "      <td>0.000</td>\n",
       "    </tr>\n",
       "    <tr>\n",
       "      <th>765871</th>\n",
       "      <td>2019</td>\n",
       "      <td>CY Imp. from U.S.</td>\n",
       "      <td>0.000</td>\n",
       "    </tr>\n",
       "    <tr>\n",
       "      <th>765872</th>\n",
       "      <td>2019</td>\n",
       "      <td>CY Exports</td>\n",
       "      <td>27000.000</td>\n",
       "    </tr>\n",
       "    <tr>\n",
       "      <th>765873</th>\n",
       "      <td>2019</td>\n",
       "      <td>CY Exp. to U.S.</td>\n",
       "      <td>980.000</td>\n",
       "    </tr>\n",
       "    <tr>\n",
       "      <th>765874</th>\n",
       "      <td>2019</td>\n",
       "      <td>Yield</td>\n",
       "      <td>3.617</td>\n",
       "    </tr>\n",
       "  </tbody>\n",
       "</table>\n",
       "</div>"
      ],
      "text/plain": [
       "       marketYear      attributeName      value\n",
       "765870       2019         CY Imports      0.000\n",
       "765871       2019  CY Imp. from U.S.      0.000\n",
       "765872       2019         CY Exports  27000.000\n",
       "765873       2019    CY Exp. to U.S.    980.000\n",
       "765874       2019              Yield      3.617"
      ]
     },
     "execution_count": 23,
     "metadata": {},
     "output_type": "execute_result"
    }
   ],
   "source": [
    "palm_oil_dataframe_id.tail()"
   ]
  },
  {
   "cell_type": "code",
   "execution_count": 24,
   "metadata": {},
   "outputs": [],
   "source": [
    "# Market year as index\n",
    "palm_oil_dataframe_id.index = palm_oil_dataframe_id['marketYear']\n",
    "palm_oil_dataframe_id = palm_oil_dataframe_id.drop(['marketYear'], axis=1)"
   ]
  },
  {
   "cell_type": "code",
   "execution_count": 25,
   "metadata": {},
   "outputs": [
    {
     "data": {
      "text/html": [
       "<div>\n",
       "<style scoped>\n",
       "    .dataframe tbody tr th:only-of-type {\n",
       "        vertical-align: middle;\n",
       "    }\n",
       "\n",
       "    .dataframe tbody tr th {\n",
       "        vertical-align: top;\n",
       "    }\n",
       "\n",
       "    .dataframe thead th {\n",
       "        text-align: right;\n",
       "    }\n",
       "</style>\n",
       "<table border=\"1\" class=\"dataframe\">\n",
       "  <thead>\n",
       "    <tr style=\"text-align: right;\">\n",
       "      <th></th>\n",
       "      <th>attributeName</th>\n",
       "      <th>value</th>\n",
       "    </tr>\n",
       "    <tr>\n",
       "      <th>marketYear</th>\n",
       "      <th></th>\n",
       "      <th></th>\n",
       "    </tr>\n",
       "  </thead>\n",
       "  <tbody>\n",
       "    <tr>\n",
       "      <th>2019</th>\n",
       "      <td>CY Imports</td>\n",
       "      <td>0.000</td>\n",
       "    </tr>\n",
       "    <tr>\n",
       "      <th>2019</th>\n",
       "      <td>CY Imp. from U.S.</td>\n",
       "      <td>0.000</td>\n",
       "    </tr>\n",
       "    <tr>\n",
       "      <th>2019</th>\n",
       "      <td>CY Exports</td>\n",
       "      <td>27000.000</td>\n",
       "    </tr>\n",
       "    <tr>\n",
       "      <th>2019</th>\n",
       "      <td>CY Exp. to U.S.</td>\n",
       "      <td>980.000</td>\n",
       "    </tr>\n",
       "    <tr>\n",
       "      <th>2019</th>\n",
       "      <td>Yield</td>\n",
       "      <td>3.617</td>\n",
       "    </tr>\n",
       "  </tbody>\n",
       "</table>\n",
       "</div>"
      ],
      "text/plain": [
       "                attributeName      value\n",
       "marketYear                              \n",
       "2019               CY Imports      0.000\n",
       "2019        CY Imp. from U.S.      0.000\n",
       "2019               CY Exports  27000.000\n",
       "2019          CY Exp. to U.S.    980.000\n",
       "2019                    Yield      3.617"
      ]
     },
     "execution_count": 25,
     "metadata": {},
     "output_type": "execute_result"
    }
   ],
   "source": [
    "palm_oil_dataframe_id.tail()"
   ]
  },
  {
   "cell_type": "code",
   "execution_count": 26,
   "metadata": {},
   "outputs": [],
   "source": [
    "# Change AttributeName from rows to columns\n",
    "palm_oil_dataframe_id = palm_oil_dataframe_id.pivot(columns='attributeName')"
   ]
  },
  {
   "cell_type": "code",
   "execution_count": 27,
   "metadata": {},
   "outputs": [
    {
     "data": {
      "text/html": [
       "<div>\n",
       "<style scoped>\n",
       "    .dataframe tbody tr th:only-of-type {\n",
       "        vertical-align: middle;\n",
       "    }\n",
       "\n",
       "    .dataframe tbody tr th {\n",
       "        vertical-align: top;\n",
       "    }\n",
       "\n",
       "    .dataframe thead tr th {\n",
       "        text-align: left;\n",
       "    }\n",
       "\n",
       "    .dataframe thead tr:last-of-type th {\n",
       "        text-align: right;\n",
       "    }\n",
       "</style>\n",
       "<table border=\"1\" class=\"dataframe\">\n",
       "  <thead>\n",
       "    <tr>\n",
       "      <th></th>\n",
       "      <th colspan=\"21\" halign=\"left\">value</th>\n",
       "    </tr>\n",
       "    <tr>\n",
       "      <th>attributeName</th>\n",
       "      <th>Area Harvested</th>\n",
       "      <th>Area Planted</th>\n",
       "      <th>Beginning Stocks</th>\n",
       "      <th>CY Exp. to U.S.</th>\n",
       "      <th>CY Exports</th>\n",
       "      <th>CY Imp. from U.S.</th>\n",
       "      <th>CY Imports</th>\n",
       "      <th>Domestic Consumption</th>\n",
       "      <th>Ending Stocks</th>\n",
       "      <th>Exports</th>\n",
       "      <th>...</th>\n",
       "      <th>Imports</th>\n",
       "      <th>Industrial Dom. Cons.</th>\n",
       "      <th>MY Exp. to EU</th>\n",
       "      <th>MY Imp. from EU</th>\n",
       "      <th>MY Imp. from U.S.</th>\n",
       "      <th>Production</th>\n",
       "      <th>Total Distribution</th>\n",
       "      <th>Total Supply</th>\n",
       "      <th>Total Trees</th>\n",
       "      <th>Yield</th>\n",
       "    </tr>\n",
       "    <tr>\n",
       "      <th>marketYear</th>\n",
       "      <th></th>\n",
       "      <th></th>\n",
       "      <th></th>\n",
       "      <th></th>\n",
       "      <th></th>\n",
       "      <th></th>\n",
       "      <th></th>\n",
       "      <th></th>\n",
       "      <th></th>\n",
       "      <th></th>\n",
       "      <th></th>\n",
       "      <th></th>\n",
       "      <th></th>\n",
       "      <th></th>\n",
       "      <th></th>\n",
       "      <th></th>\n",
       "      <th></th>\n",
       "      <th></th>\n",
       "      <th></th>\n",
       "      <th></th>\n",
       "      <th></th>\n",
       "    </tr>\n",
       "  </thead>\n",
       "  <tbody>\n",
       "    <tr>\n",
       "      <th>2015</th>\n",
       "      <td>10198.0</td>\n",
       "      <td>0.0</td>\n",
       "      <td>2889.0</td>\n",
       "      <td>754.0</td>\n",
       "      <td>22759.0</td>\n",
       "      <td>0.0</td>\n",
       "      <td>3.0</td>\n",
       "      <td>9120.0</td>\n",
       "      <td>2863.0</td>\n",
       "      <td>22906.0</td>\n",
       "      <td>...</td>\n",
       "      <td>0.0</td>\n",
       "      <td>3700.0</td>\n",
       "      <td>3256.0</td>\n",
       "      <td>0.0</td>\n",
       "      <td>0.0</td>\n",
       "      <td>32000.0</td>\n",
       "      <td>34889.0</td>\n",
       "      <td>34889.0</td>\n",
       "      <td>0.0</td>\n",
       "      <td>3.1379</td>\n",
       "    </tr>\n",
       "    <tr>\n",
       "      <th>2016</th>\n",
       "      <td>10600.0</td>\n",
       "      <td>0.0</td>\n",
       "      <td>2863.0</td>\n",
       "      <td>880.0</td>\n",
       "      <td>27353.0</td>\n",
       "      <td>0.0</td>\n",
       "      <td>3.0</td>\n",
       "      <td>9125.0</td>\n",
       "      <td>2110.0</td>\n",
       "      <td>27633.0</td>\n",
       "      <td>...</td>\n",
       "      <td>5.0</td>\n",
       "      <td>3500.0</td>\n",
       "      <td>4044.0</td>\n",
       "      <td>0.0</td>\n",
       "      <td>0.0</td>\n",
       "      <td>36000.0</td>\n",
       "      <td>38868.0</td>\n",
       "      <td>38868.0</td>\n",
       "      <td>0.0</td>\n",
       "      <td>3.3962</td>\n",
       "    </tr>\n",
       "    <tr>\n",
       "      <th>2017</th>\n",
       "      <td>11000.0</td>\n",
       "      <td>0.0</td>\n",
       "      <td>2110.0</td>\n",
       "      <td>975.0</td>\n",
       "      <td>27894.0</td>\n",
       "      <td>0.0</td>\n",
       "      <td>2.0</td>\n",
       "      <td>11555.0</td>\n",
       "      <td>3089.0</td>\n",
       "      <td>26967.0</td>\n",
       "      <td>...</td>\n",
       "      <td>1.0</td>\n",
       "      <td>5725.0</td>\n",
       "      <td>3887.0</td>\n",
       "      <td>0.0</td>\n",
       "      <td>0.0</td>\n",
       "      <td>39500.0</td>\n",
       "      <td>41611.0</td>\n",
       "      <td>41611.0</td>\n",
       "      <td>0.0</td>\n",
       "      <td>3.5909</td>\n",
       "    </tr>\n",
       "    <tr>\n",
       "      <th>2018</th>\n",
       "      <td>11300.0</td>\n",
       "      <td>0.0</td>\n",
       "      <td>3089.0</td>\n",
       "      <td>975.0</td>\n",
       "      <td>29500.0</td>\n",
       "      <td>0.0</td>\n",
       "      <td>84.0</td>\n",
       "      <td>13485.0</td>\n",
       "      <td>2909.0</td>\n",
       "      <td>28279.0</td>\n",
       "      <td>...</td>\n",
       "      <td>84.0</td>\n",
       "      <td>7450.0</td>\n",
       "      <td>3900.0</td>\n",
       "      <td>0.0</td>\n",
       "      <td>0.0</td>\n",
       "      <td>41500.0</td>\n",
       "      <td>44673.0</td>\n",
       "      <td>44673.0</td>\n",
       "      <td>0.0</td>\n",
       "      <td>3.6726</td>\n",
       "    </tr>\n",
       "    <tr>\n",
       "      <th>2019</th>\n",
       "      <td>11750.0</td>\n",
       "      <td>0.0</td>\n",
       "      <td>2909.0</td>\n",
       "      <td>980.0</td>\n",
       "      <td>27000.0</td>\n",
       "      <td>0.0</td>\n",
       "      <td>0.0</td>\n",
       "      <td>14545.0</td>\n",
       "      <td>4626.0</td>\n",
       "      <td>26249.0</td>\n",
       "      <td>...</td>\n",
       "      <td>11.0</td>\n",
       "      <td>8300.0</td>\n",
       "      <td>3900.0</td>\n",
       "      <td>0.0</td>\n",
       "      <td>0.0</td>\n",
       "      <td>42500.0</td>\n",
       "      <td>45420.0</td>\n",
       "      <td>45420.0</td>\n",
       "      <td>0.0</td>\n",
       "      <td>3.6170</td>\n",
       "    </tr>\n",
       "  </tbody>\n",
       "</table>\n",
       "<p>5 rows × 22 columns</p>\n",
       "</div>"
      ],
      "text/plain": [
       "                       value                                                \\\n",
       "attributeName Area Harvested Area Planted Beginning Stocks CY Exp. to U.S.   \n",
       "marketYear                                                                   \n",
       "2015                 10198.0          0.0           2889.0           754.0   \n",
       "2016                 10600.0          0.0           2863.0           880.0   \n",
       "2017                 11000.0          0.0           2110.0           975.0   \n",
       "2018                 11300.0          0.0           3089.0           975.0   \n",
       "2019                 11750.0          0.0           2909.0           980.0   \n",
       "\n",
       "                                                                            \\\n",
       "attributeName CY Exports CY Imp. from U.S. CY Imports Domestic Consumption   \n",
       "marketYear                                                                   \n",
       "2015             22759.0               0.0        3.0               9120.0   \n",
       "2016             27353.0               0.0        3.0               9125.0   \n",
       "2017             27894.0               0.0        2.0              11555.0   \n",
       "2018             29500.0               0.0       84.0              13485.0   \n",
       "2019             27000.0               0.0        0.0              14545.0   \n",
       "\n",
       "                                      ...                                \\\n",
       "attributeName Ending Stocks  Exports  ... Imports Industrial Dom. Cons.   \n",
       "marketYear                            ...                                 \n",
       "2015                 2863.0  22906.0  ...     0.0                3700.0   \n",
       "2016                 2110.0  27633.0  ...     5.0                3500.0   \n",
       "2017                 3089.0  26967.0  ...     1.0                5725.0   \n",
       "2018                 2909.0  28279.0  ...    84.0                7450.0   \n",
       "2019                 4626.0  26249.0  ...    11.0                8300.0   \n",
       "\n",
       "                                                                          \\\n",
       "attributeName MY Exp. to EU MY Imp. from EU MY Imp. from U.S. Production   \n",
       "marketYear                                                                 \n",
       "2015                 3256.0             0.0               0.0    32000.0   \n",
       "2016                 4044.0             0.0               0.0    36000.0   \n",
       "2017                 3887.0             0.0               0.0    39500.0   \n",
       "2018                 3900.0             0.0               0.0    41500.0   \n",
       "2019                 3900.0             0.0               0.0    42500.0   \n",
       "\n",
       "                                                                   \n",
       "attributeName Total Distribution Total Supply Total Trees   Yield  \n",
       "marketYear                                                         \n",
       "2015                     34889.0      34889.0         0.0  3.1379  \n",
       "2016                     38868.0      38868.0         0.0  3.3962  \n",
       "2017                     41611.0      41611.0         0.0  3.5909  \n",
       "2018                     44673.0      44673.0         0.0  3.6726  \n",
       "2019                     45420.0      45420.0         0.0  3.6170  \n",
       "\n",
       "[5 rows x 22 columns]"
      ]
     },
     "execution_count": 27,
     "metadata": {},
     "output_type": "execute_result"
    }
   ],
   "source": [
    "palm_oil_dataframe_id.tail()"
   ]
  },
  {
   "cell_type": "code",
   "execution_count": 28,
   "metadata": {},
   "outputs": [
    {
     "data": {
      "text/plain": [
       "(30, 22)"
      ]
     },
     "execution_count": 28,
     "metadata": {},
     "output_type": "execute_result"
    }
   ],
   "source": [
    "palm_oil_dataframe_id.shape"
   ]
  },
  {
   "cell_type": "code",
   "execution_count": 29,
   "metadata": {},
   "outputs": [],
   "source": [
    "# Drop extra index level in columns\n",
    "palm_oil_dataframe_id = palm_oil_dataframe_id.droplevel(level=0, axis=1)"
   ]
  },
  {
   "cell_type": "code",
   "execution_count": 30,
   "metadata": {},
   "outputs": [
    {
     "data": {
      "text/plain": [
       "Index(['Area Harvested', 'Area Planted', 'Beginning Stocks', 'CY Exp. to U.S.',\n",
       "       'CY Exports', 'CY Imp. from U.S.', 'CY Imports', 'Domestic Consumption',\n",
       "       'Ending Stocks', 'Exports', 'Feed Waste Dom. Cons.',\n",
       "       'Food Use Dom. Cons.', 'Imports', 'Industrial Dom. Cons.',\n",
       "       'MY Exp. to EU', 'MY Imp. from EU', 'MY Imp. from U.S.', 'Production',\n",
       "       'Total Distribution', 'Total Supply', 'Total Trees', 'Yield'],\n",
       "      dtype='object', name='attributeName')"
      ]
     },
     "execution_count": 30,
     "metadata": {},
     "output_type": "execute_result"
    }
   ],
   "source": [
    "palm_oil_dataframe_id.columns"
   ]
  },
  {
   "cell_type": "code",
   "execution_count": 31,
   "metadata": {},
   "outputs": [
    {
     "name": "stdout",
     "output_type": "stream",
     "text": [
      "<class 'pandas.core.frame.DataFrame'>\n",
      "Index: 30 entries, 1990 to 2019\n",
      "Data columns (total 22 columns):\n",
      " #   Column                 Non-Null Count  Dtype  \n",
      "---  ------                 --------------  -----  \n",
      " 0   Area Harvested         30 non-null     float64\n",
      " 1   Area Planted           30 non-null     float64\n",
      " 2   Beginning Stocks       30 non-null     float64\n",
      " 3   CY Exp. to U.S.        30 non-null     float64\n",
      " 4   CY Exports             30 non-null     float64\n",
      " 5   CY Imp. from U.S.      30 non-null     float64\n",
      " 6   CY Imports             30 non-null     float64\n",
      " 7   Domestic Consumption   30 non-null     float64\n",
      " 8   Ending Stocks          30 non-null     float64\n",
      " 9   Exports                30 non-null     float64\n",
      " 10  Feed Waste Dom. Cons.  30 non-null     float64\n",
      " 11  Food Use Dom. Cons.    30 non-null     float64\n",
      " 12  Imports                30 non-null     float64\n",
      " 13  Industrial Dom. Cons.  30 non-null     float64\n",
      " 14  MY Exp. to EU          30 non-null     float64\n",
      " 15  MY Imp. from EU        30 non-null     float64\n",
      " 16  MY Imp. from U.S.      30 non-null     float64\n",
      " 17  Production             30 non-null     float64\n",
      " 18  Total Distribution     30 non-null     float64\n",
      " 19  Total Supply           30 non-null     float64\n",
      " 20  Total Trees            30 non-null     float64\n",
      " 21  Yield                  30 non-null     float64\n",
      "dtypes: float64(22)\n",
      "memory usage: 5.4+ KB\n"
     ]
    }
   ],
   "source": [
    "palm_oil_dataframe_id.info()"
   ]
  },
  {
   "cell_type": "code",
   "execution_count": 32,
   "metadata": {
    "scrolled": true
   },
   "outputs": [
    {
     "data": {
      "text/html": [
       "<div>\n",
       "<style scoped>\n",
       "    .dataframe tbody tr th:only-of-type {\n",
       "        vertical-align: middle;\n",
       "    }\n",
       "\n",
       "    .dataframe tbody tr th {\n",
       "        vertical-align: top;\n",
       "    }\n",
       "\n",
       "    .dataframe thead th {\n",
       "        text-align: right;\n",
       "    }\n",
       "</style>\n",
       "<table border=\"1\" class=\"dataframe\">\n",
       "  <thead>\n",
       "    <tr style=\"text-align: right;\">\n",
       "      <th>attributeName</th>\n",
       "      <th>Area Harvested</th>\n",
       "      <th>Area Planted</th>\n",
       "      <th>Beginning Stocks</th>\n",
       "      <th>CY Exp. to U.S.</th>\n",
       "      <th>CY Exports</th>\n",
       "      <th>CY Imp. from U.S.</th>\n",
       "      <th>CY Imports</th>\n",
       "      <th>Domestic Consumption</th>\n",
       "      <th>Ending Stocks</th>\n",
       "      <th>Exports</th>\n",
       "      <th>...</th>\n",
       "      <th>Imports</th>\n",
       "      <th>Industrial Dom. Cons.</th>\n",
       "      <th>MY Exp. to EU</th>\n",
       "      <th>MY Imp. from EU</th>\n",
       "      <th>MY Imp. from U.S.</th>\n",
       "      <th>Production</th>\n",
       "      <th>Total Distribution</th>\n",
       "      <th>Total Supply</th>\n",
       "      <th>Total Trees</th>\n",
       "      <th>Yield</th>\n",
       "    </tr>\n",
       "    <tr>\n",
       "      <th>marketYear</th>\n",
       "      <th></th>\n",
       "      <th></th>\n",
       "      <th></th>\n",
       "      <th></th>\n",
       "      <th></th>\n",
       "      <th></th>\n",
       "      <th></th>\n",
       "      <th></th>\n",
       "      <th></th>\n",
       "      <th></th>\n",
       "      <th></th>\n",
       "      <th></th>\n",
       "      <th></th>\n",
       "      <th></th>\n",
       "      <th></th>\n",
       "      <th></th>\n",
       "      <th></th>\n",
       "      <th></th>\n",
       "      <th></th>\n",
       "      <th></th>\n",
       "      <th></th>\n",
       "    </tr>\n",
       "  </thead>\n",
       "  <tbody>\n",
       "    <tr>\n",
       "      <th>2015</th>\n",
       "      <td>10198.0</td>\n",
       "      <td>0.0</td>\n",
       "      <td>2889.0</td>\n",
       "      <td>754.0</td>\n",
       "      <td>22759.0</td>\n",
       "      <td>0.0</td>\n",
       "      <td>3.0</td>\n",
       "      <td>9120.0</td>\n",
       "      <td>2863.0</td>\n",
       "      <td>22906.0</td>\n",
       "      <td>...</td>\n",
       "      <td>0.0</td>\n",
       "      <td>3700.0</td>\n",
       "      <td>3256.0</td>\n",
       "      <td>0.0</td>\n",
       "      <td>0.0</td>\n",
       "      <td>32000.0</td>\n",
       "      <td>34889.0</td>\n",
       "      <td>34889.0</td>\n",
       "      <td>0.0</td>\n",
       "      <td>3.1379</td>\n",
       "    </tr>\n",
       "    <tr>\n",
       "      <th>2016</th>\n",
       "      <td>10600.0</td>\n",
       "      <td>0.0</td>\n",
       "      <td>2863.0</td>\n",
       "      <td>880.0</td>\n",
       "      <td>27353.0</td>\n",
       "      <td>0.0</td>\n",
       "      <td>3.0</td>\n",
       "      <td>9125.0</td>\n",
       "      <td>2110.0</td>\n",
       "      <td>27633.0</td>\n",
       "      <td>...</td>\n",
       "      <td>5.0</td>\n",
       "      <td>3500.0</td>\n",
       "      <td>4044.0</td>\n",
       "      <td>0.0</td>\n",
       "      <td>0.0</td>\n",
       "      <td>36000.0</td>\n",
       "      <td>38868.0</td>\n",
       "      <td>38868.0</td>\n",
       "      <td>0.0</td>\n",
       "      <td>3.3962</td>\n",
       "    </tr>\n",
       "    <tr>\n",
       "      <th>2017</th>\n",
       "      <td>11000.0</td>\n",
       "      <td>0.0</td>\n",
       "      <td>2110.0</td>\n",
       "      <td>975.0</td>\n",
       "      <td>27894.0</td>\n",
       "      <td>0.0</td>\n",
       "      <td>2.0</td>\n",
       "      <td>11555.0</td>\n",
       "      <td>3089.0</td>\n",
       "      <td>26967.0</td>\n",
       "      <td>...</td>\n",
       "      <td>1.0</td>\n",
       "      <td>5725.0</td>\n",
       "      <td>3887.0</td>\n",
       "      <td>0.0</td>\n",
       "      <td>0.0</td>\n",
       "      <td>39500.0</td>\n",
       "      <td>41611.0</td>\n",
       "      <td>41611.0</td>\n",
       "      <td>0.0</td>\n",
       "      <td>3.5909</td>\n",
       "    </tr>\n",
       "    <tr>\n",
       "      <th>2018</th>\n",
       "      <td>11300.0</td>\n",
       "      <td>0.0</td>\n",
       "      <td>3089.0</td>\n",
       "      <td>975.0</td>\n",
       "      <td>29500.0</td>\n",
       "      <td>0.0</td>\n",
       "      <td>84.0</td>\n",
       "      <td>13485.0</td>\n",
       "      <td>2909.0</td>\n",
       "      <td>28279.0</td>\n",
       "      <td>...</td>\n",
       "      <td>84.0</td>\n",
       "      <td>7450.0</td>\n",
       "      <td>3900.0</td>\n",
       "      <td>0.0</td>\n",
       "      <td>0.0</td>\n",
       "      <td>41500.0</td>\n",
       "      <td>44673.0</td>\n",
       "      <td>44673.0</td>\n",
       "      <td>0.0</td>\n",
       "      <td>3.6726</td>\n",
       "    </tr>\n",
       "    <tr>\n",
       "      <th>2019</th>\n",
       "      <td>11750.0</td>\n",
       "      <td>0.0</td>\n",
       "      <td>2909.0</td>\n",
       "      <td>980.0</td>\n",
       "      <td>27000.0</td>\n",
       "      <td>0.0</td>\n",
       "      <td>0.0</td>\n",
       "      <td>14545.0</td>\n",
       "      <td>4626.0</td>\n",
       "      <td>26249.0</td>\n",
       "      <td>...</td>\n",
       "      <td>11.0</td>\n",
       "      <td>8300.0</td>\n",
       "      <td>3900.0</td>\n",
       "      <td>0.0</td>\n",
       "      <td>0.0</td>\n",
       "      <td>42500.0</td>\n",
       "      <td>45420.0</td>\n",
       "      <td>45420.0</td>\n",
       "      <td>0.0</td>\n",
       "      <td>3.6170</td>\n",
       "    </tr>\n",
       "  </tbody>\n",
       "</table>\n",
       "<p>5 rows × 22 columns</p>\n",
       "</div>"
      ],
      "text/plain": [
       "attributeName  Area Harvested  Area Planted  Beginning Stocks  \\\n",
       "marketYear                                                      \n",
       "2015                  10198.0           0.0            2889.0   \n",
       "2016                  10600.0           0.0            2863.0   \n",
       "2017                  11000.0           0.0            2110.0   \n",
       "2018                  11300.0           0.0            3089.0   \n",
       "2019                  11750.0           0.0            2909.0   \n",
       "\n",
       "attributeName  CY Exp. to U.S.  CY Exports  CY Imp. from U.S.  CY Imports  \\\n",
       "marketYear                                                                  \n",
       "2015                     754.0     22759.0                0.0         3.0   \n",
       "2016                     880.0     27353.0                0.0         3.0   \n",
       "2017                     975.0     27894.0                0.0         2.0   \n",
       "2018                     975.0     29500.0                0.0        84.0   \n",
       "2019                     980.0     27000.0                0.0         0.0   \n",
       "\n",
       "attributeName  Domestic Consumption  Ending Stocks  Exports  ...  Imports  \\\n",
       "marketYear                                                   ...            \n",
       "2015                         9120.0         2863.0  22906.0  ...      0.0   \n",
       "2016                         9125.0         2110.0  27633.0  ...      5.0   \n",
       "2017                        11555.0         3089.0  26967.0  ...      1.0   \n",
       "2018                        13485.0         2909.0  28279.0  ...     84.0   \n",
       "2019                        14545.0         4626.0  26249.0  ...     11.0   \n",
       "\n",
       "attributeName  Industrial Dom. Cons.  MY Exp. to EU  MY Imp. from EU  \\\n",
       "marketYear                                                             \n",
       "2015                          3700.0         3256.0              0.0   \n",
       "2016                          3500.0         4044.0              0.0   \n",
       "2017                          5725.0         3887.0              0.0   \n",
       "2018                          7450.0         3900.0              0.0   \n",
       "2019                          8300.0         3900.0              0.0   \n",
       "\n",
       "attributeName  MY Imp. from U.S.  Production  Total Distribution  \\\n",
       "marketYear                                                         \n",
       "2015                         0.0     32000.0             34889.0   \n",
       "2016                         0.0     36000.0             38868.0   \n",
       "2017                         0.0     39500.0             41611.0   \n",
       "2018                         0.0     41500.0             44673.0   \n",
       "2019                         0.0     42500.0             45420.0   \n",
       "\n",
       "attributeName  Total Supply  Total Trees   Yield  \n",
       "marketYear                                        \n",
       "2015                34889.0          0.0  3.1379  \n",
       "2016                38868.0          0.0  3.3962  \n",
       "2017                41611.0          0.0  3.5909  \n",
       "2018                44673.0          0.0  3.6726  \n",
       "2019                45420.0          0.0  3.6170  \n",
       "\n",
       "[5 rows x 22 columns]"
      ]
     },
     "execution_count": 32,
     "metadata": {},
     "output_type": "execute_result"
    }
   ],
   "source": [
    "palm_oil_dataframe_id.tail()"
   ]
  },
  {
   "cell_type": "markdown",
   "metadata": {},
   "source": [
    "### Distribution"
   ]
  },
  {
   "cell_type": "code",
   "execution_count": 107,
   "metadata": {},
   "outputs": [
    {
     "data": {
      "image/png": "[encoded data removed]",
      "text/plain": [
       "<Figure size 720x432 with 1 Axes>"
      ]
     },
     "metadata": {
      "needs_background": "light"
     },
     "output_type": "display_data"
    }
   ],
   "source": [
    "def show_distribution(dataframe, features):\n",
    "    \"\"\"Show the distribution of a random variables.\n",
    "    \"\"\"\n",
    "    # Figure size\n",
    "    plt.subplots(figsize=(10, 6))\n",
    "    \n",
    "    # Add features on a plot\n",
    "    subset = dataframe[features]\n",
    "\n",
    "    # Density plot\n",
    "    seaborn.kdeplot(data=subset, \n",
    "                    shade=True, \n",
    "                    alpha = 0.5);\n",
    "\n",
    "    # label the plot\n",
    "    plt.xlabel('Score', size = 12); plt.ylabel('Density', size = 12); \n",
    "    plt.title('Distributions', size = 16);\n",
    "\n",
    "\n",
    "# Create a list of features\n",
    "features = ['Area Harvested', 'Ending Stocks', 'Total Distribution',\n",
    "           'Exports', 'Domestic Consumption', 'Production']\n",
    "\n",
    "show_distribution(palm_oil_dataframe_id, features)"
   ]
  },
  {
   "cell_type": "code",
   "execution_count": 100,
   "metadata": {},
   "outputs": [
    {
     "data": {
      "image/png": "[encoded data removed]",
      "text/plain": [
       "<Figure size 720x432 with 1 Axes>"
      ]
     },
     "metadata": {
      "needs_background": "light"
     },
     "output_type": "display_data"
    }
   ],
   "source": [
    "features = ['Total Distribution', 'Production']\n",
    "show_distribution(palm_oil_dataframe_id, features)"
   ]
  },
  {
   "cell_type": "markdown",
   "metadata": {},
   "source": [
    "### Relationship between features and target"
   ]
  },
  {
   "cell_type": "code",
   "execution_count": 123,
   "metadata": {},
   "outputs": [],
   "source": [
    "# Find all correlations with features and target\n",
    "correlations_production = palm_oil_dataframe_id.corr()['Production'].sort_values()"
   ]
  },
  {
   "cell_type": "code",
   "execution_count": 124,
   "metadata": {
    "scrolled": false
   },
   "outputs": [
    {
     "name": "stdout",
     "output_type": "stream",
     "text": [
      "attributeName\n",
      "CY Imports              -0.363274\n",
      "Imports                 -0.363042\n",
      "Yield                    0.453223\n",
      "CY Exp. to U.S.          0.868217\n",
      "Industrial Dom. Cons.    0.894152\n",
      "Beginning Stocks         0.943920\n",
      "Ending Stocks            0.944678\n",
      "Domestic Consumption     0.961996\n",
      "MY Exp. to EU            0.964562\n",
      "Food Use Dom. Cons.      0.976785\n",
      "Feed Waste Dom. Cons.    0.982022\n",
      "Exports                  0.991991\n",
      "CY Exports               0.992363\n",
      "Area Harvested           0.995617\n",
      "Total Distribution       0.999641\n",
      "Total Supply             0.999641\n",
      "Production               1.000000\n",
      "Area Planted                  NaN\n",
      "CY Imp. from U.S.             NaN\n",
      "MY Imp. from EU               NaN\n",
      "MY Imp. from U.S.             NaN\n",
      "Total Trees                   NaN\n",
      "Name: Production, dtype: float64\n"
     ]
    }
   ],
   "source": [
    "print(correlations_production)"
   ]
  },
  {
   "cell_type": "code",
   "execution_count": 130,
   "metadata": {},
   "outputs": [
    {
     "data": {
      "image/png": "[encoded data removed]",
      "text/plain": [
       "<Figure size 1080x1080 with 42 Axes>"
      ]
     },
     "metadata": {
      "needs_background": "light"
     },
     "output_type": "display_data"
    }
   ],
   "source": [
    "# Pair plots between features and target\n",
    "seaborn.pairplot(palm_oil_dataframe_id[[\n",
    "    'Production',\n",
    "    'Total Supply',\n",
    "    'Area Harvested',\n",
    "    'Feed Waste Dom. Cons.',\n",
    "    'Beginning Stocks',\n",
    "    'Ending Stocks'\n",
    "]])\n",
    "\n",
    "plt.suptitle('Pairs Plot of Palm Oil Data', size = 16, y = 1.02);"
   ]
  },
  {
   "cell_type": "markdown",
   "metadata": {},
   "source": [
    "### Baseline"
   ]
  },
  {
   "cell_type": "code",
   "execution_count": null,
   "metadata": {},
   "outputs": [],
   "source": []
  }
 ],
 "metadata": {
  "kernelspec": {
   "display_name": "Python 3 (ipykernel)",
   "language": "python",
   "name": "python3"
  },
  "language_info": {
   "codemirror_mode": {
    "name": "ipython",
    "version": 3
   },
   "file_extension": ".py",
   "mimetype": "text/x-python",
   "name": "python",
   "nbconvert_exporter": "python",
   "pygments_lexer": "ipython3",
   "version": "3.8.8"
  }
 },
 "nbformat": 4,
 "nbformat_minor": 4
}
