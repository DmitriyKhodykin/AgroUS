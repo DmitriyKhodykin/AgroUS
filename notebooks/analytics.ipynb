{
 "cells": [
  {
   "cell_type": "markdown",
   "metadata": {},
   "source": [
    "# AgroUS"
   ]
  },
  {
   "cell_type": "markdown",
   "metadata": {},
   "source": [
    "Machine learning project for predicting Production, Supply and Distribution of World Agricultural Commodities"
   ]
  },
  {
   "cell_type": "markdown",
   "metadata": {},
   "source": [
    "Dmitriy Khodykin d.hodikin@yandex.ru"
   ]
  },
  {
   "cell_type": "code",
   "execution_count": 12,
   "metadata": {},
   "outputs": [],
   "source": [
    "# imports\n",
    "import pandas\n",
    "import matplotlib.pyplot as plt\n",
    "import seaborn"
   ]
  },
  {
   "cell_type": "markdown",
   "metadata": {},
   "source": [
    "## Import data"
   ]
  },
  {
   "cell_type": "code",
   "execution_count": 2,
   "metadata": {},
   "outputs": [],
   "source": [
    "data = pandas.read_parquet('../data/data.parquet')"
   ]
  },
  {
   "cell_type": "code",
   "execution_count": 3,
   "metadata": {},
   "outputs": [
    {
     "data": {
      "text/html": [
       "<div>\n",
       "<style scoped>\n",
       "    .dataframe tbody tr th:only-of-type {\n",
       "        vertical-align: middle;\n",
       "    }\n",
       "\n",
       "    .dataframe tbody tr th {\n",
       "        vertical-align: top;\n",
       "    }\n",
       "\n",
       "    .dataframe thead th {\n",
       "        text-align: right;\n",
       "    }\n",
       "</style>\n",
       "<table border=\"1\" class=\"dataframe\">\n",
       "  <thead>\n",
       "    <tr style=\"text-align: right;\">\n",
       "      <th></th>\n",
       "      <th>commodityCode</th>\n",
       "      <th>countryCode</th>\n",
       "      <th>marketYear</th>\n",
       "      <th>calendarYear</th>\n",
       "      <th>month</th>\n",
       "      <th>attributeId</th>\n",
       "      <th>unitId</th>\n",
       "      <th>value</th>\n",
       "      <th>commodityName</th>\n",
       "      <th>attributeName</th>\n",
       "      <th>unitDescription</th>\n",
       "    </tr>\n",
       "  </thead>\n",
       "  <tbody>\n",
       "    <tr>\n",
       "      <th>0</th>\n",
       "      <td>0577400</td>\n",
       "      <td>GR</td>\n",
       "      <td>1990</td>\n",
       "      <td>1991</td>\n",
       "      <td>00</td>\n",
       "      <td>1</td>\n",
       "      <td>12</td>\n",
       "      <td>45400.0</td>\n",
       "      <td>Almonds, Shelled Basis</td>\n",
       "      <td>Area Planted</td>\n",
       "      <td>(HA)</td>\n",
       "    </tr>\n",
       "    <tr>\n",
       "      <th>1</th>\n",
       "      <td>0577400</td>\n",
       "      <td>GR</td>\n",
       "      <td>1990</td>\n",
       "      <td>1991</td>\n",
       "      <td>00</td>\n",
       "      <td>4</td>\n",
       "      <td>12</td>\n",
       "      <td>41500.0</td>\n",
       "      <td>Almonds, Shelled Basis</td>\n",
       "      <td>Area Harvested</td>\n",
       "      <td>(HA)</td>\n",
       "    </tr>\n",
       "    <tr>\n",
       "      <th>2</th>\n",
       "      <td>0577400</td>\n",
       "      <td>GR</td>\n",
       "      <td>1990</td>\n",
       "      <td>1991</td>\n",
       "      <td>00</td>\n",
       "      <td>17</td>\n",
       "      <td>10</td>\n",
       "      <td>15100.0</td>\n",
       "      <td>Almonds, Shelled Basis</td>\n",
       "      <td>Bearing Trees</td>\n",
       "      <td>(1000 TREES)</td>\n",
       "    </tr>\n",
       "    <tr>\n",
       "      <th>3</th>\n",
       "      <td>0577400</td>\n",
       "      <td>GR</td>\n",
       "      <td>1990</td>\n",
       "      <td>1991</td>\n",
       "      <td>00</td>\n",
       "      <td>19</td>\n",
       "      <td>10</td>\n",
       "      <td>800.0</td>\n",
       "      <td>Almonds, Shelled Basis</td>\n",
       "      <td>Non-Bearing Trees</td>\n",
       "      <td>(1000 TREES)</td>\n",
       "    </tr>\n",
       "    <tr>\n",
       "      <th>4</th>\n",
       "      <td>0577400</td>\n",
       "      <td>GR</td>\n",
       "      <td>1990</td>\n",
       "      <td>1991</td>\n",
       "      <td>00</td>\n",
       "      <td>16</td>\n",
       "      <td>10</td>\n",
       "      <td>15900.0</td>\n",
       "      <td>Almonds, Shelled Basis</td>\n",
       "      <td>Total Trees</td>\n",
       "      <td>(1000 TREES)</td>\n",
       "    </tr>\n",
       "  </tbody>\n",
       "</table>\n",
       "</div>"
      ],
      "text/plain": [
       "  commodityCode countryCode marketYear calendarYear month  attributeId  \\\n",
       "0       0577400          GR       1990         1991    00            1   \n",
       "1       0577400          GR       1990         1991    00            4   \n",
       "2       0577400          GR       1990         1991    00           17   \n",
       "3       0577400          GR       1990         1991    00           19   \n",
       "4       0577400          GR       1990         1991    00           16   \n",
       "\n",
       "   unitId    value           commodityName      attributeName  \\\n",
       "0      12  45400.0  Almonds, Shelled Basis       Area Planted   \n",
       "1      12  41500.0  Almonds, Shelled Basis     Area Harvested   \n",
       "2      10  15100.0  Almonds, Shelled Basis      Bearing Trees   \n",
       "3      10    800.0  Almonds, Shelled Basis  Non-Bearing Trees   \n",
       "4      10  15900.0  Almonds, Shelled Basis        Total Trees   \n",
       "\n",
       "        unitDescription  \n",
       "0  (HA)                  \n",
       "1  (HA)                  \n",
       "2  (1000 TREES)          \n",
       "3  (1000 TREES)          \n",
       "4  (1000 TREES)          "
      ]
     },
     "execution_count": 3,
     "metadata": {},
     "output_type": "execute_result"
    }
   ],
   "source": [
    "data.head()"
   ]
  },
  {
   "cell_type": "code",
   "execution_count": 4,
   "metadata": {},
   "outputs": [
    {
     "name": "stdout",
     "output_type": "stream",
     "text": [
      "<class 'pandas.core.frame.DataFrame'>\n",
      "Int64Index: 1410644 entries, 0 to 1410643\n",
      "Data columns (total 11 columns):\n",
      " #   Column           Non-Null Count    Dtype  \n",
      "---  ------           --------------    -----  \n",
      " 0   commodityCode    1410644 non-null  object \n",
      " 1   countryCode      1410644 non-null  object \n",
      " 2   marketYear       1410644 non-null  object \n",
      " 3   calendarYear     1410644 non-null  object \n",
      " 4   month            1410644 non-null  object \n",
      " 5   attributeId      1410644 non-null  int64  \n",
      " 6   unitId           1410644 non-null  int64  \n",
      " 7   value            1410644 non-null  float64\n",
      " 8   commodityName    1410644 non-null  object \n",
      " 9   attributeName    1410644 non-null  object \n",
      " 10  unitDescription  1410644 non-null  object \n",
      "dtypes: float64(1), int64(2), object(8)\n",
      "memory usage: 129.1+ MB\n"
     ]
    }
   ],
   "source": [
    "data.info()"
   ]
  },
  {
   "cell_type": "markdown",
   "metadata": {},
   "source": [
    "## Analytics data"
   ]
  },
  {
   "cell_type": "code",
   "execution_count": 22,
   "metadata": {},
   "outputs": [
    {
     "data": {
      "text/plain": [
       "Sugar, Centrifugal          75760\n",
       "Cotton                      55770\n",
       "Wheat                       55650\n",
       "Corn                        55215\n",
       "Coffee, Green               53375\n",
       "                            ...  \n",
       "Orange Juice                 4653\n",
       "Mixed Grain                  2655\n",
       "Meal, Soybean (Local)        1260\n",
       "Oilseed, Soybean (Local)     1260\n",
       "Oil, Soybean (Local)         1200\n",
       "Name: commodityName, Length: 64, dtype: int64"
      ]
     },
     "execution_count": 22,
     "metadata": {},
     "output_type": "execute_result"
    }
   ],
   "source": [
    "data['commodityName'].value_counts()"
   ]
  },
  {
   "cell_type": "code",
   "execution_count": 37,
   "metadata": {},
   "outputs": [
    {
     "data": {
      "image/png": "[encoded data removed]",
      "text/plain": [
       "<Figure size 432x288 with 1 Axes>"
      ]
     },
     "metadata": {
      "needs_background": "light"
     },
     "output_type": "display_data"
    }
   ],
   "source": [
    "# Subset TOP-10 Commodities\n",
    "top_10 = data['commodityName'].value_counts().head(10)\n",
    "\n",
    "seaborn.barplot(\n",
    "    x = top_10, \n",
    "    y = top_10.index\n",
    ");"
   ]
  },
  {
   "cell_type": "markdown",
   "metadata": {},
   "source": [
    "### Sugar"
   ]
  },
  {
   "cell_type": "code",
   "execution_count": 29,
   "metadata": {},
   "outputs": [
    {
     "data": {
      "text/html": [
       "<div>\n",
       "<style scoped>\n",
       "    .dataframe tbody tr th:only-of-type {\n",
       "        vertical-align: middle;\n",
       "    }\n",
       "\n",
       "    .dataframe tbody tr th {\n",
       "        vertical-align: top;\n",
       "    }\n",
       "\n",
       "    .dataframe thead th {\n",
       "        text-align: right;\n",
       "    }\n",
       "</style>\n",
       "<table border=\"1\" class=\"dataframe\">\n",
       "  <thead>\n",
       "    <tr style=\"text-align: right;\">\n",
       "      <th></th>\n",
       "      <th>commodityCode</th>\n",
       "      <th>countryCode</th>\n",
       "      <th>marketYear</th>\n",
       "      <th>calendarYear</th>\n",
       "      <th>month</th>\n",
       "      <th>attributeId</th>\n",
       "      <th>unitId</th>\n",
       "      <th>value</th>\n",
       "      <th>commodityName</th>\n",
       "      <th>attributeName</th>\n",
       "      <th>unitDescription</th>\n",
       "    </tr>\n",
       "  </thead>\n",
       "  <tbody>\n",
       "    <tr>\n",
       "      <th>1262030</th>\n",
       "      <td>0612000</td>\n",
       "      <td>AF</td>\n",
       "      <td>1990</td>\n",
       "      <td>1989</td>\n",
       "      <td>00</td>\n",
       "      <td>20</td>\n",
       "      <td>8</td>\n",
       "      <td>55.0</td>\n",
       "      <td>Sugar, Centrifugal</td>\n",
       "      <td>Beginning Stocks</td>\n",
       "      <td>(1000 MT)</td>\n",
       "    </tr>\n",
       "    <tr>\n",
       "      <th>1262031</th>\n",
       "      <td>0612000</td>\n",
       "      <td>AF</td>\n",
       "      <td>1990</td>\n",
       "      <td>1989</td>\n",
       "      <td>00</td>\n",
       "      <td>30</td>\n",
       "      <td>8</td>\n",
       "      <td>3.0</td>\n",
       "      <td>Sugar, Centrifugal</td>\n",
       "      <td>Beet Sugar Production</td>\n",
       "      <td>(1000 MT)</td>\n",
       "    </tr>\n",
       "    <tr>\n",
       "      <th>1262032</th>\n",
       "      <td>0612000</td>\n",
       "      <td>AF</td>\n",
       "      <td>1990</td>\n",
       "      <td>1989</td>\n",
       "      <td>00</td>\n",
       "      <td>43</td>\n",
       "      <td>8</td>\n",
       "      <td>7.0</td>\n",
       "      <td>Sugar, Centrifugal</td>\n",
       "      <td>Cane Sugar Production</td>\n",
       "      <td>(1000 MT)</td>\n",
       "    </tr>\n",
       "    <tr>\n",
       "      <th>1262033</th>\n",
       "      <td>0612000</td>\n",
       "      <td>AF</td>\n",
       "      <td>1990</td>\n",
       "      <td>1989</td>\n",
       "      <td>00</td>\n",
       "      <td>28</td>\n",
       "      <td>8</td>\n",
       "      <td>10.0</td>\n",
       "      <td>Sugar, Centrifugal</td>\n",
       "      <td>Production</td>\n",
       "      <td>(1000 MT)</td>\n",
       "    </tr>\n",
       "    <tr>\n",
       "      <th>1262034</th>\n",
       "      <td>0612000</td>\n",
       "      <td>AF</td>\n",
       "      <td>1990</td>\n",
       "      <td>1989</td>\n",
       "      <td>00</td>\n",
       "      <td>64</td>\n",
       "      <td>8</td>\n",
       "      <td>90.0</td>\n",
       "      <td>Sugar, Centrifugal</td>\n",
       "      <td>Raw Imports</td>\n",
       "      <td>(1000 MT)</td>\n",
       "    </tr>\n",
       "  </tbody>\n",
       "</table>\n",
       "</div>"
      ],
      "text/plain": [
       "        commodityCode countryCode marketYear calendarYear month  attributeId  \\\n",
       "1262030       0612000          AF       1990         1989    00           20   \n",
       "1262031       0612000          AF       1990         1989    00           30   \n",
       "1262032       0612000          AF       1990         1989    00           43   \n",
       "1262033       0612000          AF       1990         1989    00           28   \n",
       "1262034       0612000          AF       1990         1989    00           64   \n",
       "\n",
       "         unitId  value       commodityName          attributeName  \\\n",
       "1262030       8   55.0  Sugar, Centrifugal       Beginning Stocks   \n",
       "1262031       8    3.0  Sugar, Centrifugal  Beet Sugar Production   \n",
       "1262032       8    7.0  Sugar, Centrifugal  Cane Sugar Production   \n",
       "1262033       8   10.0  Sugar, Centrifugal             Production   \n",
       "1262034       8   90.0  Sugar, Centrifugal            Raw Imports   \n",
       "\n",
       "              unitDescription  \n",
       "1262030  (1000 MT)             \n",
       "1262031  (1000 MT)             \n",
       "1262032  (1000 MT)             \n",
       "1262033  (1000 MT)             \n",
       "1262034  (1000 MT)             "
      ]
     },
     "execution_count": 29,
     "metadata": {},
     "output_type": "execute_result"
    }
   ],
   "source": [
    "# Old periods\n",
    "data[data['commodityName'] == 'Sugar, Centrifugal'].head()"
   ]
  },
  {
   "cell_type": "code",
   "execution_count": 31,
   "metadata": {},
   "outputs": [
    {
     "data": {
      "text/html": [
       "<div>\n",
       "<style scoped>\n",
       "    .dataframe tbody tr th:only-of-type {\n",
       "        vertical-align: middle;\n",
       "    }\n",
       "\n",
       "    .dataframe tbody tr th {\n",
       "        vertical-align: top;\n",
       "    }\n",
       "\n",
       "    .dataframe thead th {\n",
       "        text-align: right;\n",
       "    }\n",
       "</style>\n",
       "<table border=\"1\" class=\"dataframe\">\n",
       "  <thead>\n",
       "    <tr style=\"text-align: right;\">\n",
       "      <th></th>\n",
       "      <th>commodityCode</th>\n",
       "      <th>countryCode</th>\n",
       "      <th>marketYear</th>\n",
       "      <th>calendarYear</th>\n",
       "      <th>month</th>\n",
       "      <th>attributeId</th>\n",
       "      <th>unitId</th>\n",
       "      <th>value</th>\n",
       "      <th>commodityName</th>\n",
       "      <th>attributeName</th>\n",
       "      <th>unitDescription</th>\n",
       "    </tr>\n",
       "  </thead>\n",
       "  <tbody>\n",
       "    <tr>\n",
       "      <th>1337785</th>\n",
       "      <td>0612000</td>\n",
       "      <td>ZA</td>\n",
       "      <td>2019</td>\n",
       "      <td>2021</td>\n",
       "      <td>05</td>\n",
       "      <td>139</td>\n",
       "      <td>8</td>\n",
       "      <td>404.0</td>\n",
       "      <td>Sugar, Centrifugal</td>\n",
       "      <td>Human Dom. Consumption</td>\n",
       "      <td>(1000 MT)</td>\n",
       "    </tr>\n",
       "    <tr>\n",
       "      <th>1337786</th>\n",
       "      <td>0612000</td>\n",
       "      <td>ZA</td>\n",
       "      <td>2019</td>\n",
       "      <td>2021</td>\n",
       "      <td>05</td>\n",
       "      <td>151</td>\n",
       "      <td>8</td>\n",
       "      <td>0.0</td>\n",
       "      <td>Sugar, Centrifugal</td>\n",
       "      <td>Other Disappearance</td>\n",
       "      <td>(1000 MT)</td>\n",
       "    </tr>\n",
       "    <tr>\n",
       "      <th>1337787</th>\n",
       "      <td>0612000</td>\n",
       "      <td>ZA</td>\n",
       "      <td>2019</td>\n",
       "      <td>2021</td>\n",
       "      <td>05</td>\n",
       "      <td>126</td>\n",
       "      <td>8</td>\n",
       "      <td>404.0</td>\n",
       "      <td>Sugar, Centrifugal</td>\n",
       "      <td>Total Disappearance</td>\n",
       "      <td>(1000 MT)</td>\n",
       "    </tr>\n",
       "    <tr>\n",
       "      <th>1337788</th>\n",
       "      <td>0612000</td>\n",
       "      <td>ZA</td>\n",
       "      <td>2019</td>\n",
       "      <td>2021</td>\n",
       "      <td>05</td>\n",
       "      <td>176</td>\n",
       "      <td>8</td>\n",
       "      <td>80.0</td>\n",
       "      <td>Sugar, Centrifugal</td>\n",
       "      <td>Ending Stocks</td>\n",
       "      <td>(1000 MT)</td>\n",
       "    </tr>\n",
       "    <tr>\n",
       "      <th>1337789</th>\n",
       "      <td>0612000</td>\n",
       "      <td>ZA</td>\n",
       "      <td>2019</td>\n",
       "      <td>2021</td>\n",
       "      <td>05</td>\n",
       "      <td>178</td>\n",
       "      <td>8</td>\n",
       "      <td>520.0</td>\n",
       "      <td>Sugar, Centrifugal</td>\n",
       "      <td>Total Distribution</td>\n",
       "      <td>(1000 MT)</td>\n",
       "    </tr>\n",
       "  </tbody>\n",
       "</table>\n",
       "</div>"
      ],
      "text/plain": [
       "        commodityCode countryCode marketYear calendarYear month  attributeId  \\\n",
       "1337785       0612000          ZA       2019         2021    05          139   \n",
       "1337786       0612000          ZA       2019         2021    05          151   \n",
       "1337787       0612000          ZA       2019         2021    05          126   \n",
       "1337788       0612000          ZA       2019         2021    05          176   \n",
       "1337789       0612000          ZA       2019         2021    05          178   \n",
       "\n",
       "         unitId  value       commodityName           attributeName  \\\n",
       "1337785       8  404.0  Sugar, Centrifugal  Human Dom. Consumption   \n",
       "1337786       8    0.0  Sugar, Centrifugal     Other Disappearance   \n",
       "1337787       8  404.0  Sugar, Centrifugal     Total Disappearance   \n",
       "1337788       8   80.0  Sugar, Centrifugal           Ending Stocks   \n",
       "1337789       8  520.0  Sugar, Centrifugal      Total Distribution   \n",
       "\n",
       "              unitDescription  \n",
       "1337785  (1000 MT)             \n",
       "1337786  (1000 MT)             \n",
       "1337787  (1000 MT)             \n",
       "1337788  (1000 MT)             \n",
       "1337789  (1000 MT)             "
      ]
     },
     "execution_count": 31,
     "metadata": {},
     "output_type": "execute_result"
    }
   ],
   "source": [
    "# New periods\n",
    "data[data['commodityName'] == 'Sugar, Centrifugal'].tail()"
   ]
  },
  {
   "cell_type": "code",
   "execution_count": 71,
   "metadata": {},
   "outputs": [
    {
     "name": "stdout",
     "output_type": "stream",
     "text": [
      "Sugar Productions Data Rows: 4735\n"
     ]
    }
   ],
   "source": [
    "# Production\n",
    "sugar_production = data[(data['commodityName'] == 'Sugar, Centrifugal') & \\\n",
    "                        (data['attributeName'] == 'Production')]\\\n",
    "                        [['marketYear', 'month', 'value']]\n",
    "\n",
    "print('Sugar Productions Data Rows:', len(sugar_production))"
   ]
  },
  {
   "cell_type": "code",
   "execution_count": 72,
   "metadata": {},
   "outputs": [
    {
     "data": {
      "text/html": [
       "<div>\n",
       "<style scoped>\n",
       "    .dataframe tbody tr th:only-of-type {\n",
       "        vertical-align: middle;\n",
       "    }\n",
       "\n",
       "    .dataframe tbody tr th {\n",
       "        vertical-align: top;\n",
       "    }\n",
       "\n",
       "    .dataframe thead th {\n",
       "        text-align: right;\n",
       "    }\n",
       "</style>\n",
       "<table border=\"1\" class=\"dataframe\">\n",
       "  <thead>\n",
       "    <tr style=\"text-align: right;\">\n",
       "      <th></th>\n",
       "      <th>marketYear</th>\n",
       "      <th>month</th>\n",
       "      <th>value</th>\n",
       "    </tr>\n",
       "  </thead>\n",
       "  <tbody>\n",
       "    <tr>\n",
       "      <th>1288561</th>\n",
       "      <td>2000</td>\n",
       "      <td>00</td>\n",
       "      <td>0.0</td>\n",
       "    </tr>\n",
       "    <tr>\n",
       "      <th>1288577</th>\n",
       "      <td>2000</td>\n",
       "      <td>05</td>\n",
       "      <td>0.0</td>\n",
       "    </tr>\n",
       "    <tr>\n",
       "      <th>1288593</th>\n",
       "      <td>2000</td>\n",
       "      <td>05</td>\n",
       "      <td>0.0</td>\n",
       "    </tr>\n",
       "    <tr>\n",
       "      <th>1288609</th>\n",
       "      <td>2000</td>\n",
       "      <td>00</td>\n",
       "      <td>5.0</td>\n",
       "    </tr>\n",
       "    <tr>\n",
       "      <th>1288625</th>\n",
       "      <td>2000</td>\n",
       "      <td>00</td>\n",
       "      <td>0.0</td>\n",
       "    </tr>\n",
       "    <tr>\n",
       "      <th>...</th>\n",
       "      <td>...</td>\n",
       "      <td>...</td>\n",
       "      <td>...</td>\n",
       "    </tr>\n",
       "    <tr>\n",
       "      <th>1291089</th>\n",
       "      <td>2000</td>\n",
       "      <td>00</td>\n",
       "      <td>0.0</td>\n",
       "    </tr>\n",
       "    <tr>\n",
       "      <th>1291105</th>\n",
       "      <td>2000</td>\n",
       "      <td>00</td>\n",
       "      <td>550.0</td>\n",
       "    </tr>\n",
       "    <tr>\n",
       "      <th>1291121</th>\n",
       "      <td>2000</td>\n",
       "      <td>00</td>\n",
       "      <td>73.0</td>\n",
       "    </tr>\n",
       "    <tr>\n",
       "      <th>1291137</th>\n",
       "      <td>2000</td>\n",
       "      <td>00</td>\n",
       "      <td>0.0</td>\n",
       "    </tr>\n",
       "    <tr>\n",
       "      <th>1291153</th>\n",
       "      <td>2000</td>\n",
       "      <td>00</td>\n",
       "      <td>197.0</td>\n",
       "    </tr>\n",
       "  </tbody>\n",
       "</table>\n",
       "<p>163 rows × 3 columns</p>\n",
       "</div>"
      ],
      "text/plain": [
       "        marketYear month  value\n",
       "1288561       2000    00    0.0\n",
       "1288577       2000    05    0.0\n",
       "1288593       2000    05    0.0\n",
       "1288609       2000    00    5.0\n",
       "1288625       2000    00    0.0\n",
       "...            ...   ...    ...\n",
       "1291089       2000    00    0.0\n",
       "1291105       2000    00  550.0\n",
       "1291121       2000    00   73.0\n",
       "1291137       2000    00    0.0\n",
       "1291153       2000    00  197.0\n",
       "\n",
       "[163 rows x 3 columns]"
      ]
     },
     "execution_count": 72,
     "metadata": {},
     "output_type": "execute_result"
    }
   ],
   "source": [
    "sugar_production[sugar_production['marketYear'] == '2000']"
   ]
  },
  {
   "cell_type": "code",
   "execution_count": 81,
   "metadata": {},
   "outputs": [
    {
     "data": {
      "image/png": "[encoded data removed]",
      "text/plain": [
       "<Figure size 432x288 with 1 Axes>"
      ]
     },
     "metadata": {
      "needs_background": "light"
     },
     "output_type": "display_data"
    }
   ],
   "source": [
    "def show_barplot(data, x_label, y_label):\n",
    "    \"\"\"\n",
    "    Show seaborn barplot.\n",
    "    \"\"\"\n",
    "    seaborn.barplot(\n",
    "        x = data[x_label], \n",
    "        y = data[y_label])\n",
    "    plt.xticks(rotation=90)\n",
    "    plt.show();\n",
    "\n",
    "show_barplot(sugar_production, 'marketYear', 'value')"
   ]
  },
  {
   "cell_type": "code",
   "execution_count": null,
   "metadata": {},
   "outputs": [],
   "source": []
  }
 ],
 "metadata": {
  "kernelspec": {
   "display_name": "Python 3",
   "language": "python",
   "name": "python3"
  },
  "language_info": {
   "codemirror_mode": {
    "name": "ipython",
    "version": 3
   },
   "file_extension": ".py",
   "mimetype": "text/x-python",
   "name": "python",
   "nbconvert_exporter": "python",
   "pygments_lexer": "ipython3",
   "version": "3.8.3"
  }
 },
 "nbformat": 4,
 "nbformat_minor": 4
}
